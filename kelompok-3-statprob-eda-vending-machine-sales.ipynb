{
 "cells": [
  {
   "cell_type": "markdown",
   "id": "d6abe0ba",
   "metadata": {
    "papermill": {
     "duration": 0.011188,
     "end_time": "2023-12-21T06:07:29.825519",
     "exception": false,
     "start_time": "2023-12-21T06:07:29.814331",
     "status": "completed"
    },
    "tags": []
   },
   "source": [
    "**<span style=\"font-size:3em;\">Final Project StatProb Kelompok 3</span>**\n",
    "\n",
    "**<span style=\"font-size:1em;\">ANGGOTA:</span>**\n",
    "1. Muhammad Abhinaya Al-Faruqi (5027231011)\n",
    "2. Danendra Fidel Khansa (5027231063)\n",
    "3. Nisrina Atiqah Dwiputri Ridzki (5027231075)"
   ]
  },
  {
   "cell_type": "markdown",
   "id": "d7d9ae9f",
   "metadata": {
    "papermill": {
     "duration": 0.009999,
     "end_time": "2023-12-21T06:07:29.846363",
     "exception": false,
     "start_time": "2023-12-21T06:07:29.836364",
     "status": "completed"
    },
    "tags": []
   },
   "source": [
    "**<span style=\"font-size:2em;\">Vending Machine Sales</span>**"
   ]
  },
  {
   "cell_type": "markdown",
   "id": "1760586f",
   "metadata": {
    "papermill": {
     "duration": 0.009951,
     "end_time": "2023-12-21T06:07:29.866548",
     "exception": false,
     "start_time": "2023-12-21T06:07:29.856597",
     "status": "completed"
    },
    "tags": []
   },
   "source": [
    "Dataset ini memberikan wawasan penting dalam mengoptimalkan operasi dan pengalaman pelanggan vending machine. Dengan menganalisis data ini, pengelola dan pemilik vending machine dapat mengidentifikasi tren permintaan, memahami preferensi pelanggan, dan merancang strategi yang lebih efektif. Ini mendukung tujuan meningkatkan efisiensi operasional dan memberikan pengalaman yang lebih baik bagi pelanggan."
   ]
  },
  {
   "cell_type": "markdown",
   "id": "e8ed169b",
   "metadata": {
    "papermill": {
     "duration": 0.009836,
     "end_time": "2023-12-21T06:07:29.886852",
     "exception": false,
     "start_time": "2023-12-21T06:07:29.877016",
     "status": "completed"
    },
    "tags": []
   },
   "source": [
    "**<span style=\"font-size:1.5em;\">Dataset Description</span>**\n",
    "\n",
    "Deskripsi \"Kategori\" dataset Vending Machine Sales dan penjelasan setiap kolom :\n",
    "\n",
    "1. Status       = status pembelian produk    \n",
    "2. Device ID    = nomor ID vending machine\n",
    "3. Location     = lokasi dari vending machine\n",
    "4. Machine      = nama mesin\n",
    "5. Product      = produk yang terjual\n",
    "6. Category     = jenis makanan\n",
    "7. TransDate    = tanggal transaksi produk\n",
    "8. Type         = tipe pembelian cash atau credit\n",
    "\n",
    "Deskripsi \"Non Kategori\" dataset Vending Machine Sales dan penjelasan setiap kolom :\n",
    "\n",
    "9. Transaction  = nomor transaksi\n",
    "10. RCoil       = jumlah baris produk pada setiap vending machine\n",
    "11. RPrice      = harga produk\n",
    "12. RQty        = kuantitas produk yang keluar dari vending machine\n",
    "13. MCoil       = jumlah baris produk pada setiap vending machine\n",
    "14. MPrice      = harga produk\n",
    "15. MQty        = kuantitas produk yang keluar dari vending machine\n",
    "16. LineTotal   = harga produk\n",
    "17. TransTotal  = total transaksi produk\n",
    "18. TransMonth  = bulan transaksi produk"
   ]
  },
  {
   "cell_type": "markdown",
   "id": "a1c5db57",
   "metadata": {
    "papermill": {
     "duration": 0.010675,
     "end_time": "2023-12-21T06:07:29.907687",
     "exception": false,
     "start_time": "2023-12-21T06:07:29.897012",
     "status": "completed"
    },
    "tags": []
   },
   "source": [
    "**<span style=\"font-size:1.5em;\">Importing Required Libraries and Data</span>**"
   ]
  },
  {
   "cell_type": "code",
   "execution_count": 1,
   "id": "6275191f",
   "metadata": {
    "execution": {
     "iopub.execute_input": "2023-12-21T06:07:29.929779Z",
     "iopub.status.busy": "2023-12-21T06:07:29.929311Z",
     "iopub.status.idle": "2023-12-21T06:07:32.215291Z",
     "shell.execute_reply": "2023-12-21T06:07:32.213911Z"
    },
    "papermill": {
     "duration": 2.300572,
     "end_time": "2023-12-21T06:07:32.218345",
     "exception": false,
     "start_time": "2023-12-21T06:07:29.917773",
     "status": "completed"
    },
    "tags": []
   },
   "outputs": [],
   "source": [
    "import pandas as pd\n",
    "import numpy as np\n",
    "import matplotlib.pyplot as plt\n",
    "import seaborn as sns"
   ]
  },
  {
   "cell_type": "markdown",
   "id": "42075b50",
   "metadata": {
    "papermill": {
     "duration": 0.01025,
     "end_time": "2023-12-21T06:07:32.239417",
     "exception": false,
     "start_time": "2023-12-21T06:07:32.229167",
     "status": "completed"
    },
    "tags": []
   },
   "source": [
    "**<span style=\"font-size:1.5em;\">Penjelasan dan Analisis Awal Dataset</span>**"
   ]
  },
  {
   "cell_type": "code",
   "execution_count": 2,
   "id": "cc7ab595",
   "metadata": {
    "execution": {
     "iopub.execute_input": "2023-12-21T06:07:32.263403Z",
     "iopub.status.busy": "2023-12-21T06:07:32.262470Z",
     "iopub.status.idle": "2023-12-21T06:07:32.343376Z",
     "shell.execute_reply": "2023-12-21T06:07:32.342198Z"
    },
    "papermill": {
     "duration": 0.095942,
     "end_time": "2023-12-21T06:07:32.346292",
     "exception": false,
     "start_time": "2023-12-21T06:07:32.250350",
     "status": "completed"
    },
    "tags": []
   },
   "outputs": [],
   "source": [
    "#membaca file dataset dalam bentuk csv\n",
    "df = pd.read_csv('/kaggle/input/vending-machine-sales/vending_machine_sales.csv')"
   ]
  },
  {
   "cell_type": "code",
   "execution_count": 3,
   "id": "b84baa75",
   "metadata": {
    "execution": {
     "iopub.execute_input": "2023-12-21T06:07:32.369817Z",
     "iopub.status.busy": "2023-12-21T06:07:32.368698Z",
     "iopub.status.idle": "2023-12-21T06:07:32.414595Z",
     "shell.execute_reply": "2023-12-21T06:07:32.413487Z"
    },
    "papermill": {
     "duration": 0.060572,
     "end_time": "2023-12-21T06:07:32.417261",
     "exception": false,
     "start_time": "2023-12-21T06:07:32.356689",
     "status": "completed"
    },
    "tags": []
   },
   "outputs": [
    {
     "data": {
      "text/html": [
       "<div>\n",
       "<style scoped>\n",
       "    .dataframe tbody tr th:only-of-type {\n",
       "        vertical-align: middle;\n",
       "    }\n",
       "\n",
       "    .dataframe tbody tr th {\n",
       "        vertical-align: top;\n",
       "    }\n",
       "\n",
       "    .dataframe thead th {\n",
       "        text-align: right;\n",
       "    }\n",
       "</style>\n",
       "<table border=\"1\" class=\"dataframe\">\n",
       "  <thead>\n",
       "    <tr style=\"text-align: right;\">\n",
       "      <th></th>\n",
       "      <th>Status</th>\n",
       "      <th>Device ID</th>\n",
       "      <th>Location</th>\n",
       "      <th>Machine</th>\n",
       "      <th>Product</th>\n",
       "      <th>Category</th>\n",
       "      <th>Transaction</th>\n",
       "      <th>TransDate</th>\n",
       "      <th>Type</th>\n",
       "      <th>RCoil</th>\n",
       "      <th>RPrice</th>\n",
       "      <th>RQty</th>\n",
       "      <th>MCoil</th>\n",
       "      <th>MPrice</th>\n",
       "      <th>MQty</th>\n",
       "      <th>LineTotal</th>\n",
       "      <th>TransTotal</th>\n",
       "      <th>Prcd Date</th>\n",
       "    </tr>\n",
       "  </thead>\n",
       "  <tbody>\n",
       "    <tr>\n",
       "      <th>0</th>\n",
       "      <td>Processed</td>\n",
       "      <td>VJ300320611</td>\n",
       "      <td>Brunswick Sq Mall</td>\n",
       "      <td>BSQ Mall x1366 - ATT</td>\n",
       "      <td>Red Bull - Energy Drink - Sugar Free</td>\n",
       "      <td>Carbonated</td>\n",
       "      <td>14515778905</td>\n",
       "      <td>1/1/2022</td>\n",
       "      <td>Credit</td>\n",
       "      <td>148</td>\n",
       "      <td>3.5</td>\n",
       "      <td>1</td>\n",
       "      <td>148</td>\n",
       "      <td>3.5</td>\n",
       "      <td>1</td>\n",
       "      <td>3.5</td>\n",
       "      <td>3.5</td>\n",
       "      <td>1/1/2022</td>\n",
       "    </tr>\n",
       "    <tr>\n",
       "      <th>1</th>\n",
       "      <td>Processed</td>\n",
       "      <td>VJ300320611</td>\n",
       "      <td>Brunswick Sq Mall</td>\n",
       "      <td>BSQ Mall x1366 - ATT</td>\n",
       "      <td>Red Bull - Energy Drink - Sugar Free</td>\n",
       "      <td>Carbonated</td>\n",
       "      <td>14516018629</td>\n",
       "      <td>1/1/2022</td>\n",
       "      <td>Credit</td>\n",
       "      <td>148</td>\n",
       "      <td>3.5</td>\n",
       "      <td>1</td>\n",
       "      <td>148</td>\n",
       "      <td>3.5</td>\n",
       "      <td>1</td>\n",
       "      <td>3.5</td>\n",
       "      <td>5.0</td>\n",
       "      <td>1/1/2022</td>\n",
       "    </tr>\n",
       "    <tr>\n",
       "      <th>2</th>\n",
       "      <td>Processed</td>\n",
       "      <td>VJ300320611</td>\n",
       "      <td>Brunswick Sq Mall</td>\n",
       "      <td>BSQ Mall x1366 - ATT</td>\n",
       "      <td>Takis - Hot Chilli Pepper &amp; Lime</td>\n",
       "      <td>Food</td>\n",
       "      <td>14516018629</td>\n",
       "      <td>1/1/2022</td>\n",
       "      <td>Credit</td>\n",
       "      <td>123</td>\n",
       "      <td>1.5</td>\n",
       "      <td>1</td>\n",
       "      <td>123</td>\n",
       "      <td>1.5</td>\n",
       "      <td>1</td>\n",
       "      <td>1.5</td>\n",
       "      <td>5.0</td>\n",
       "      <td>1/1/2022</td>\n",
       "    </tr>\n",
       "    <tr>\n",
       "      <th>3</th>\n",
       "      <td>Processed</td>\n",
       "      <td>VJ300320611</td>\n",
       "      <td>Brunswick Sq Mall</td>\n",
       "      <td>BSQ Mall x1366 - ATT</td>\n",
       "      <td>Takis - Hot Chilli Pepper &amp; Lime</td>\n",
       "      <td>Food</td>\n",
       "      <td>14516020373</td>\n",
       "      <td>1/1/2022</td>\n",
       "      <td>Credit</td>\n",
       "      <td>123</td>\n",
       "      <td>1.5</td>\n",
       "      <td>1</td>\n",
       "      <td>123</td>\n",
       "      <td>1.5</td>\n",
       "      <td>1</td>\n",
       "      <td>1.5</td>\n",
       "      <td>1.5</td>\n",
       "      <td>1/1/2022</td>\n",
       "    </tr>\n",
       "    <tr>\n",
       "      <th>4</th>\n",
       "      <td>Processed</td>\n",
       "      <td>VJ300320611</td>\n",
       "      <td>Brunswick Sq Mall</td>\n",
       "      <td>BSQ Mall x1366 - ATT</td>\n",
       "      <td>Red Bull - Energy Drink - Sugar Free</td>\n",
       "      <td>Carbonated</td>\n",
       "      <td>14516021756</td>\n",
       "      <td>1/1/2022</td>\n",
       "      <td>Credit</td>\n",
       "      <td>148</td>\n",
       "      <td>3.5</td>\n",
       "      <td>1</td>\n",
       "      <td>148</td>\n",
       "      <td>3.5</td>\n",
       "      <td>1</td>\n",
       "      <td>3.5</td>\n",
       "      <td>3.5</td>\n",
       "      <td>1/1/2022</td>\n",
       "    </tr>\n",
       "    <tr>\n",
       "      <th>...</th>\n",
       "      <td>...</td>\n",
       "      <td>...</td>\n",
       "      <td>...</td>\n",
       "      <td>...</td>\n",
       "      <td>...</td>\n",
       "      <td>...</td>\n",
       "      <td>...</td>\n",
       "      <td>...</td>\n",
       "      <td>...</td>\n",
       "      <td>...</td>\n",
       "      <td>...</td>\n",
       "      <td>...</td>\n",
       "      <td>...</td>\n",
       "      <td>...</td>\n",
       "      <td>...</td>\n",
       "      <td>...</td>\n",
       "      <td>...</td>\n",
       "      <td>...</td>\n",
       "    </tr>\n",
       "    <tr>\n",
       "      <th>9612</th>\n",
       "      <td>Processed</td>\n",
       "      <td>VJ300320609</td>\n",
       "      <td>GuttenPlans</td>\n",
       "      <td>GuttenPlans x1367</td>\n",
       "      <td>Doritos Nacho Cheese</td>\n",
       "      <td>Food</td>\n",
       "      <td>16175373362</td>\n",
       "      <td>12/30/2022</td>\n",
       "      <td>Cash</td>\n",
       "      <td>112</td>\n",
       "      <td>1.5</td>\n",
       "      <td>1</td>\n",
       "      <td>112</td>\n",
       "      <td>1.5</td>\n",
       "      <td>1</td>\n",
       "      <td>1.5</td>\n",
       "      <td>1.5</td>\n",
       "      <td>12/30/2022</td>\n",
       "    </tr>\n",
       "    <tr>\n",
       "      <th>9613</th>\n",
       "      <td>Processed</td>\n",
       "      <td>VJ300320611</td>\n",
       "      <td>Brunswick Sq Mall</td>\n",
       "      <td>BSQ Mall x1366 - ATT</td>\n",
       "      <td>Poland Springs Water</td>\n",
       "      <td>Water</td>\n",
       "      <td>16176802941</td>\n",
       "      <td>12/31/2022</td>\n",
       "      <td>Cash</td>\n",
       "      <td>143</td>\n",
       "      <td>1.5</td>\n",
       "      <td>1</td>\n",
       "      <td>143</td>\n",
       "      <td>1.5</td>\n",
       "      <td>1</td>\n",
       "      <td>1.5</td>\n",
       "      <td>1.5</td>\n",
       "      <td>12/31/2022</td>\n",
       "    </tr>\n",
       "    <tr>\n",
       "      <th>9614</th>\n",
       "      <td>Processed</td>\n",
       "      <td>VJ300205292</td>\n",
       "      <td>Brunswick Sq Mall</td>\n",
       "      <td>BSQ Mall x1364 - Zales</td>\n",
       "      <td>Robert Irvine's - Fit Crunch -  Chocolate Pea</td>\n",
       "      <td>Food</td>\n",
       "      <td>16176909481</td>\n",
       "      <td>12/31/2022</td>\n",
       "      <td>Cash</td>\n",
       "      <td>137</td>\n",
       "      <td>2.0</td>\n",
       "      <td>1</td>\n",
       "      <td>137</td>\n",
       "      <td>2.0</td>\n",
       "      <td>1</td>\n",
       "      <td>2.0</td>\n",
       "      <td>2.0</td>\n",
       "      <td>12/31/2022</td>\n",
       "    </tr>\n",
       "    <tr>\n",
       "      <th>9615</th>\n",
       "      <td>Processed</td>\n",
       "      <td>VJ300320611</td>\n",
       "      <td>Brunswick Sq Mall</td>\n",
       "      <td>BSQ Mall x1366 - ATT</td>\n",
       "      <td>Poland Springs Water</td>\n",
       "      <td>Water</td>\n",
       "      <td>16176914301</td>\n",
       "      <td>12/31/2022</td>\n",
       "      <td>Cash</td>\n",
       "      <td>143</td>\n",
       "      <td>1.5</td>\n",
       "      <td>1</td>\n",
       "      <td>143</td>\n",
       "      <td>1.5</td>\n",
       "      <td>1</td>\n",
       "      <td>1.5</td>\n",
       "      <td>1.5</td>\n",
       "      <td>12/31/2022</td>\n",
       "    </tr>\n",
       "    <tr>\n",
       "      <th>9616</th>\n",
       "      <td>Processed</td>\n",
       "      <td>VJ300205292</td>\n",
       "      <td>Brunswick Sq Mall</td>\n",
       "      <td>BSQ Mall x1364 - Zales</td>\n",
       "      <td>Coca Cola - Zero Sugar</td>\n",
       "      <td>Carbonated</td>\n",
       "      <td>16177325723</td>\n",
       "      <td>12/31/2022</td>\n",
       "      <td>Cash</td>\n",
       "      <td>140</td>\n",
       "      <td>1.5</td>\n",
       "      <td>1</td>\n",
       "      <td>140</td>\n",
       "      <td>1.5</td>\n",
       "      <td>1</td>\n",
       "      <td>1.5</td>\n",
       "      <td>1.5</td>\n",
       "      <td>12/31/2022</td>\n",
       "    </tr>\n",
       "  </tbody>\n",
       "</table>\n",
       "<p>9617 rows × 18 columns</p>\n",
       "</div>"
      ],
      "text/plain": [
       "         Status    Device ID           Location                 Machine  \\\n",
       "0     Processed  VJ300320611  Brunswick Sq Mall    BSQ Mall x1366 - ATT   \n",
       "1     Processed  VJ300320611  Brunswick Sq Mall    BSQ Mall x1366 - ATT   \n",
       "2     Processed  VJ300320611  Brunswick Sq Mall    BSQ Mall x1366 - ATT   \n",
       "3     Processed  VJ300320611  Brunswick Sq Mall    BSQ Mall x1366 - ATT   \n",
       "4     Processed  VJ300320611  Brunswick Sq Mall    BSQ Mall x1366 - ATT   \n",
       "...         ...          ...                ...                     ...   \n",
       "9612  Processed  VJ300320609        GuttenPlans       GuttenPlans x1367   \n",
       "9613  Processed  VJ300320611  Brunswick Sq Mall    BSQ Mall x1366 - ATT   \n",
       "9614  Processed  VJ300205292  Brunswick Sq Mall  BSQ Mall x1364 - Zales   \n",
       "9615  Processed  VJ300320611  Brunswick Sq Mall    BSQ Mall x1366 - ATT   \n",
       "9616  Processed  VJ300205292  Brunswick Sq Mall  BSQ Mall x1364 - Zales   \n",
       "\n",
       "                                            Product    Category  Transaction  \\\n",
       "0              Red Bull - Energy Drink - Sugar Free  Carbonated  14515778905   \n",
       "1              Red Bull - Energy Drink - Sugar Free  Carbonated  14516018629   \n",
       "2                  Takis - Hot Chilli Pepper & Lime        Food  14516018629   \n",
       "3                  Takis - Hot Chilli Pepper & Lime        Food  14516020373   \n",
       "4              Red Bull - Energy Drink - Sugar Free  Carbonated  14516021756   \n",
       "...                                             ...         ...          ...   \n",
       "9612                           Doritos Nacho Cheese        Food  16175373362   \n",
       "9613                           Poland Springs Water       Water  16176802941   \n",
       "9614  Robert Irvine's - Fit Crunch -  Chocolate Pea        Food  16176909481   \n",
       "9615                           Poland Springs Water       Water  16176914301   \n",
       "9616                         Coca Cola - Zero Sugar  Carbonated  16177325723   \n",
       "\n",
       "       TransDate    Type  RCoil  RPrice  RQty  MCoil  MPrice  MQty  LineTotal  \\\n",
       "0       1/1/2022  Credit    148     3.5     1    148     3.5     1        3.5   \n",
       "1       1/1/2022  Credit    148     3.5     1    148     3.5     1        3.5   \n",
       "2       1/1/2022  Credit    123     1.5     1    123     1.5     1        1.5   \n",
       "3       1/1/2022  Credit    123     1.5     1    123     1.5     1        1.5   \n",
       "4       1/1/2022  Credit    148     3.5     1    148     3.5     1        3.5   \n",
       "...          ...     ...    ...     ...   ...    ...     ...   ...        ...   \n",
       "9612  12/30/2022    Cash    112     1.5     1    112     1.5     1        1.5   \n",
       "9613  12/31/2022    Cash    143     1.5     1    143     1.5     1        1.5   \n",
       "9614  12/31/2022    Cash    137     2.0     1    137     2.0     1        2.0   \n",
       "9615  12/31/2022    Cash    143     1.5     1    143     1.5     1        1.5   \n",
       "9616  12/31/2022    Cash    140     1.5     1    140     1.5     1        1.5   \n",
       "\n",
       "      TransTotal   Prcd Date  \n",
       "0            3.5    1/1/2022  \n",
       "1            5.0    1/1/2022  \n",
       "2            5.0    1/1/2022  \n",
       "3            1.5    1/1/2022  \n",
       "4            3.5    1/1/2022  \n",
       "...          ...         ...  \n",
       "9612         1.5  12/30/2022  \n",
       "9613         1.5  12/31/2022  \n",
       "9614         2.0  12/31/2022  \n",
       "9615         1.5  12/31/2022  \n",
       "9616         1.5  12/31/2022  \n",
       "\n",
       "[9617 rows x 18 columns]"
      ]
     },
     "execution_count": 3,
     "metadata": {},
     "output_type": "execute_result"
    }
   ],
   "source": [
    "#menampilkan dataset \n",
    "df"
   ]
  },
  {
   "cell_type": "code",
   "execution_count": 4,
   "id": "45b1241a",
   "metadata": {
    "execution": {
     "iopub.execute_input": "2023-12-21T06:07:32.442011Z",
     "iopub.status.busy": "2023-12-21T06:07:32.441088Z",
     "iopub.status.idle": "2023-12-21T06:07:32.449199Z",
     "shell.execute_reply": "2023-12-21T06:07:32.448159Z"
    },
    "papermill": {
     "duration": 0.023265,
     "end_time": "2023-12-21T06:07:32.451439",
     "exception": false,
     "start_time": "2023-12-21T06:07:32.428174",
     "status": "completed"
    },
    "tags": []
   },
   "outputs": [
    {
     "data": {
      "text/plain": [
       "Index(['Status', 'Device ID', 'Location', 'Machine', 'Product', 'Category',\n",
       "       'Transaction', 'TransDate', 'Type', 'RCoil', 'RPrice', 'RQty', 'MCoil',\n",
       "       'MPrice', 'MQty', 'LineTotal', 'TransTotal', 'Prcd Date'],\n",
       "      dtype='object')"
      ]
     },
     "execution_count": 4,
     "metadata": {},
     "output_type": "execute_result"
    }
   ],
   "source": [
    "#mengecek kolom pada dataset\n",
    "df.columns"
   ]
  },
  {
   "cell_type": "markdown",
   "id": "e4d80860",
   "metadata": {
    "papermill": {
     "duration": 0.010927,
     "end_time": "2023-12-21T06:07:32.473561",
     "exception": false,
     "start_time": "2023-12-21T06:07:32.462634",
     "status": "completed"
    },
    "tags": []
   },
   "source": [
    "Terdapat 18 value untuk dataset ini"
   ]
  },
  {
   "cell_type": "code",
   "execution_count": 5,
   "id": "66b93b4d",
   "metadata": {
    "execution": {
     "iopub.execute_input": "2023-12-21T06:07:32.591304Z",
     "iopub.status.busy": "2023-12-21T06:07:32.590543Z",
     "iopub.status.idle": "2023-12-21T06:07:32.745045Z",
     "shell.execute_reply": "2023-12-21T06:07:32.743572Z"
    },
    "papermill": {
     "duration": 0.170234,
     "end_time": "2023-12-21T06:07:32.747962",
     "exception": false,
     "start_time": "2023-12-21T06:07:32.577728",
     "status": "completed"
    },
    "tags": []
   },
   "outputs": [
    {
     "name": "stdout",
     "output_type": "stream",
     "text": [
      "<class 'pandas.core.frame.DataFrame'>\n",
      "RangeIndex: 9617 entries, 0 to 9616\n",
      "Data columns (total 18 columns):\n",
      " #   Column       Non-Null Count  Dtype  \n",
      "---  ------       --------------  -----  \n",
      " 0   Status       9617 non-null   object \n",
      " 1   Device ID    9617 non-null   object \n",
      " 2   Location     9617 non-null   object \n",
      " 3   Machine      9617 non-null   object \n",
      " 4   Product      9611 non-null   object \n",
      " 5   Category     9350 non-null   object \n",
      " 6   Transaction  9617 non-null   int64  \n",
      " 7   TransDate    9617 non-null   object \n",
      " 8   Type         9617 non-null   object \n",
      " 9   RCoil        9617 non-null   int64  \n",
      " 10  RPrice       9617 non-null   float64\n",
      " 11  RQty         9617 non-null   int64  \n",
      " 12  MCoil        9617 non-null   int64  \n",
      " 13  MPrice       9614 non-null   float64\n",
      " 14  MQty         9617 non-null   int64  \n",
      " 15  LineTotal    9617 non-null   float64\n",
      " 16  TransTotal   9617 non-null   float64\n",
      " 17  Prcd Date    9617 non-null   object \n",
      "dtypes: float64(4), int64(5), object(9)\n",
      "memory usage: 1.3+ MB\n"
     ]
    }
   ],
   "source": [
    "#mengecek tipe data\n",
    "df.info()"
   ]
  },
  {
   "cell_type": "markdown",
   "id": "4b3be40e",
   "metadata": {
    "papermill": {
     "duration": 0.01086,
     "end_time": "2023-12-21T06:07:32.770319",
     "exception": false,
     "start_time": "2023-12-21T06:07:32.759459",
     "status": "completed"
    },
    "tags": []
   },
   "source": [
    "Terdapat 9 tipe data object, 5 tipe data integer, dan 4 tipe data float"
   ]
  },
  {
   "cell_type": "code",
   "execution_count": 6,
   "id": "45133047",
   "metadata": {
    "execution": {
     "iopub.execute_input": "2023-12-21T06:07:32.794421Z",
     "iopub.status.busy": "2023-12-21T06:07:32.793915Z",
     "iopub.status.idle": "2023-12-21T06:07:32.808361Z",
     "shell.execute_reply": "2023-12-21T06:07:32.807110Z"
    },
    "papermill": {
     "duration": 0.029571,
     "end_time": "2023-12-21T06:07:32.810820",
     "exception": false,
     "start_time": "2023-12-21T06:07:32.781249",
     "status": "completed"
    },
    "tags": []
   },
   "outputs": [
    {
     "data": {
      "text/plain": [
       "Status           0\n",
       "Device ID        0\n",
       "Location         0\n",
       "Machine          0\n",
       "Product          6\n",
       "Category       267\n",
       "Transaction      0\n",
       "TransDate        0\n",
       "Type             0\n",
       "RCoil            0\n",
       "RPrice           0\n",
       "RQty             0\n",
       "MCoil            0\n",
       "MPrice           3\n",
       "MQty             0\n",
       "LineTotal        0\n",
       "TransTotal       0\n",
       "Prcd Date        0\n",
       "dtype: int64"
      ]
     },
     "execution_count": 6,
     "metadata": {},
     "output_type": "execute_result"
    }
   ],
   "source": [
    "#cek kelengkapan data\n",
    "df.isnull().sum()"
   ]
  },
  {
   "cell_type": "markdown",
   "id": "185d3ea5",
   "metadata": {
    "papermill": {
     "duration": 0.010948,
     "end_time": "2023-12-21T06:07:32.833252",
     "exception": false,
     "start_time": "2023-12-21T06:07:32.822304",
     "status": "completed"
    },
    "tags": []
   },
   "source": [
    "terdapat data kosong pada value category dan MPrice"
   ]
  },
  {
   "cell_type": "code",
   "execution_count": 7,
   "id": "51a92edc",
   "metadata": {
    "execution": {
     "iopub.execute_input": "2023-12-21T06:07:32.857586Z",
     "iopub.status.busy": "2023-12-21T06:07:32.857090Z",
     "iopub.status.idle": "2023-12-21T06:07:32.899877Z",
     "shell.execute_reply": "2023-12-21T06:07:32.899032Z"
    },
    "papermill": {
     "duration": 0.058198,
     "end_time": "2023-12-21T06:07:32.902543",
     "exception": false,
     "start_time": "2023-12-21T06:07:32.844345",
     "status": "completed"
    },
    "tags": []
   },
   "outputs": [
    {
     "data": {
      "text/html": [
       "<div>\n",
       "<style scoped>\n",
       "    .dataframe tbody tr th:only-of-type {\n",
       "        vertical-align: middle;\n",
       "    }\n",
       "\n",
       "    .dataframe tbody tr th {\n",
       "        vertical-align: top;\n",
       "    }\n",
       "\n",
       "    .dataframe thead th {\n",
       "        text-align: right;\n",
       "    }\n",
       "</style>\n",
       "<table border=\"1\" class=\"dataframe\">\n",
       "  <thead>\n",
       "    <tr style=\"text-align: right;\">\n",
       "      <th></th>\n",
       "      <th>count</th>\n",
       "      <th>mean</th>\n",
       "      <th>std</th>\n",
       "      <th>min</th>\n",
       "      <th>25%</th>\n",
       "      <th>50%</th>\n",
       "      <th>75%</th>\n",
       "      <th>max</th>\n",
       "    </tr>\n",
       "  </thead>\n",
       "  <tbody>\n",
       "    <tr>\n",
       "      <th>Transaction</th>\n",
       "      <td>9617.0</td>\n",
       "      <td>1.538223e+10</td>\n",
       "      <td>4.403263e+08</td>\n",
       "      <td>1.451578e+10</td>\n",
       "      <td>1.503952e+10</td>\n",
       "      <td>1.538346e+10</td>\n",
       "      <td>1.573892e+10</td>\n",
       "      <td>1.617733e+10</td>\n",
       "    </tr>\n",
       "    <tr>\n",
       "      <th>RCoil</th>\n",
       "      <td>9617.0</td>\n",
       "      <td>1.329820e+02</td>\n",
       "      <td>1.335672e+01</td>\n",
       "      <td>1.100000e+02</td>\n",
       "      <td>1.220000e+02</td>\n",
       "      <td>1.380000e+02</td>\n",
       "      <td>1.440000e+02</td>\n",
       "      <td>1.650000e+02</td>\n",
       "    </tr>\n",
       "    <tr>\n",
       "      <th>RPrice</th>\n",
       "      <td>9617.0</td>\n",
       "      <td>1.958251e+00</td>\n",
       "      <td>6.986075e-01</td>\n",
       "      <td>1.000000e+00</td>\n",
       "      <td>1.500000e+00</td>\n",
       "      <td>1.500000e+00</td>\n",
       "      <td>2.500000e+00</td>\n",
       "      <td>5.000000e+00</td>\n",
       "    </tr>\n",
       "    <tr>\n",
       "      <th>RQty</th>\n",
       "      <td>9617.0</td>\n",
       "      <td>1.014766e+00</td>\n",
       "      <td>1.273299e-01</td>\n",
       "      <td>1.000000e+00</td>\n",
       "      <td>1.000000e+00</td>\n",
       "      <td>1.000000e+00</td>\n",
       "      <td>1.000000e+00</td>\n",
       "      <td>3.000000e+00</td>\n",
       "    </tr>\n",
       "    <tr>\n",
       "      <th>MCoil</th>\n",
       "      <td>9617.0</td>\n",
       "      <td>1.329820e+02</td>\n",
       "      <td>1.335672e+01</td>\n",
       "      <td>1.100000e+02</td>\n",
       "      <td>1.220000e+02</td>\n",
       "      <td>1.380000e+02</td>\n",
       "      <td>1.440000e+02</td>\n",
       "      <td>1.650000e+02</td>\n",
       "    </tr>\n",
       "    <tr>\n",
       "      <th>MPrice</th>\n",
       "      <td>9614.0</td>\n",
       "      <td>1.958394e+00</td>\n",
       "      <td>6.986696e-01</td>\n",
       "      <td>1.000000e+00</td>\n",
       "      <td>1.500000e+00</td>\n",
       "      <td>1.500000e+00</td>\n",
       "      <td>2.500000e+00</td>\n",
       "      <td>5.000000e+00</td>\n",
       "    </tr>\n",
       "    <tr>\n",
       "      <th>MQty</th>\n",
       "      <td>9617.0</td>\n",
       "      <td>1.014766e+00</td>\n",
       "      <td>1.273299e-01</td>\n",
       "      <td>1.000000e+00</td>\n",
       "      <td>1.000000e+00</td>\n",
       "      <td>1.000000e+00</td>\n",
       "      <td>1.000000e+00</td>\n",
       "      <td>3.000000e+00</td>\n",
       "    </tr>\n",
       "    <tr>\n",
       "      <th>LineTotal</th>\n",
       "      <td>9617.0</td>\n",
       "      <td>1.985520e+00</td>\n",
       "      <td>7.442442e-01</td>\n",
       "      <td>1.000000e+00</td>\n",
       "      <td>1.500000e+00</td>\n",
       "      <td>1.500000e+00</td>\n",
       "      <td>2.500000e+00</td>\n",
       "      <td>8.000000e+00</td>\n",
       "    </tr>\n",
       "    <tr>\n",
       "      <th>TransTotal</th>\n",
       "      <td>9617.0</td>\n",
       "      <td>2.220469e+00</td>\n",
       "      <td>1.084523e+00</td>\n",
       "      <td>1.000000e+00</td>\n",
       "      <td>1.500000e+00</td>\n",
       "      <td>2.000000e+00</td>\n",
       "      <td>2.750000e+00</td>\n",
       "      <td>9.000000e+00</td>\n",
       "    </tr>\n",
       "  </tbody>\n",
       "</table>\n",
       "</div>"
      ],
      "text/plain": [
       "              count          mean           std           min           25%  \\\n",
       "Transaction  9617.0  1.538223e+10  4.403263e+08  1.451578e+10  1.503952e+10   \n",
       "RCoil        9617.0  1.329820e+02  1.335672e+01  1.100000e+02  1.220000e+02   \n",
       "RPrice       9617.0  1.958251e+00  6.986075e-01  1.000000e+00  1.500000e+00   \n",
       "RQty         9617.0  1.014766e+00  1.273299e-01  1.000000e+00  1.000000e+00   \n",
       "MCoil        9617.0  1.329820e+02  1.335672e+01  1.100000e+02  1.220000e+02   \n",
       "MPrice       9614.0  1.958394e+00  6.986696e-01  1.000000e+00  1.500000e+00   \n",
       "MQty         9617.0  1.014766e+00  1.273299e-01  1.000000e+00  1.000000e+00   \n",
       "LineTotal    9617.0  1.985520e+00  7.442442e-01  1.000000e+00  1.500000e+00   \n",
       "TransTotal   9617.0  2.220469e+00  1.084523e+00  1.000000e+00  1.500000e+00   \n",
       "\n",
       "                      50%           75%           max  \n",
       "Transaction  1.538346e+10  1.573892e+10  1.617733e+10  \n",
       "RCoil        1.380000e+02  1.440000e+02  1.650000e+02  \n",
       "RPrice       1.500000e+00  2.500000e+00  5.000000e+00  \n",
       "RQty         1.000000e+00  1.000000e+00  3.000000e+00  \n",
       "MCoil        1.380000e+02  1.440000e+02  1.650000e+02  \n",
       "MPrice       1.500000e+00  2.500000e+00  5.000000e+00  \n",
       "MQty         1.000000e+00  1.000000e+00  3.000000e+00  \n",
       "LineTotal    1.500000e+00  2.500000e+00  8.000000e+00  \n",
       "TransTotal   2.000000e+00  2.750000e+00  9.000000e+00  "
      ]
     },
     "execution_count": 7,
     "metadata": {},
     "output_type": "execute_result"
    }
   ],
   "source": [
    "# mendeskripsikan isi dari data non kategorial\n",
    "df.describe().T"
   ]
  },
  {
   "cell_type": "markdown",
   "id": "140e9c12",
   "metadata": {
    "papermill": {
     "duration": 0.01149,
     "end_time": "2023-12-21T06:07:32.925810",
     "exception": false,
     "start_time": "2023-12-21T06:07:32.914320",
     "status": "completed"
    },
    "tags": []
   },
   "source": [
    "Tampilan data diatas kurang dapat dipahami dalam analisis dataset yang kami lakukan maka dari itu tidak akan sepenuhnya kami gunakan"
   ]
  },
  {
   "cell_type": "code",
   "execution_count": 8,
   "id": "92f1b154",
   "metadata": {
    "execution": {
     "iopub.execute_input": "2023-12-21T06:07:32.952303Z",
     "iopub.status.busy": "2023-12-21T06:07:32.951322Z",
     "iopub.status.idle": "2023-12-21T06:07:32.980886Z",
     "shell.execute_reply": "2023-12-21T06:07:32.979791Z"
    },
    "papermill": {
     "duration": 0.04516,
     "end_time": "2023-12-21T06:07:32.983393",
     "exception": false,
     "start_time": "2023-12-21T06:07:32.938233",
     "status": "completed"
    },
    "tags": []
   },
   "outputs": [
    {
     "data": {
      "text/html": [
       "<div>\n",
       "<style scoped>\n",
       "    .dataframe tbody tr th:only-of-type {\n",
       "        vertical-align: middle;\n",
       "    }\n",
       "\n",
       "    .dataframe tbody tr th {\n",
       "        vertical-align: top;\n",
       "    }\n",
       "\n",
       "    .dataframe thead th {\n",
       "        text-align: right;\n",
       "    }\n",
       "</style>\n",
       "<table border=\"1\" class=\"dataframe\">\n",
       "  <thead>\n",
       "    <tr style=\"text-align: right;\">\n",
       "      <th></th>\n",
       "      <th>Status</th>\n",
       "      <th>Device ID</th>\n",
       "      <th>Location</th>\n",
       "      <th>Machine</th>\n",
       "      <th>Product</th>\n",
       "      <th>Category</th>\n",
       "      <th>Transaction</th>\n",
       "      <th>TransDate</th>\n",
       "      <th>Type</th>\n",
       "      <th>RCoil</th>\n",
       "      <th>RPrice</th>\n",
       "      <th>RQty</th>\n",
       "      <th>MCoil</th>\n",
       "      <th>MPrice</th>\n",
       "      <th>MQty</th>\n",
       "      <th>LineTotal</th>\n",
       "      <th>TransTotal</th>\n",
       "      <th>Prcd Date</th>\n",
       "      <th>TransMonth</th>\n",
       "    </tr>\n",
       "  </thead>\n",
       "  <tbody>\n",
       "    <tr>\n",
       "      <th>0</th>\n",
       "      <td>Processed</td>\n",
       "      <td>VJ300320611</td>\n",
       "      <td>Brunswick Sq Mall</td>\n",
       "      <td>BSQ Mall x1366 - ATT</td>\n",
       "      <td>Red Bull - Energy Drink - Sugar Free</td>\n",
       "      <td>Carbonated</td>\n",
       "      <td>14515778905</td>\n",
       "      <td>1/1/2022</td>\n",
       "      <td>Credit</td>\n",
       "      <td>148</td>\n",
       "      <td>3.5</td>\n",
       "      <td>1</td>\n",
       "      <td>148</td>\n",
       "      <td>3.5</td>\n",
       "      <td>1</td>\n",
       "      <td>3.5</td>\n",
       "      <td>3.5</td>\n",
       "      <td>1/1/2022</td>\n",
       "      <td>1</td>\n",
       "    </tr>\n",
       "    <tr>\n",
       "      <th>1</th>\n",
       "      <td>Processed</td>\n",
       "      <td>VJ300320611</td>\n",
       "      <td>Brunswick Sq Mall</td>\n",
       "      <td>BSQ Mall x1366 - ATT</td>\n",
       "      <td>Red Bull - Energy Drink - Sugar Free</td>\n",
       "      <td>Carbonated</td>\n",
       "      <td>14516018629</td>\n",
       "      <td>1/1/2022</td>\n",
       "      <td>Credit</td>\n",
       "      <td>148</td>\n",
       "      <td>3.5</td>\n",
       "      <td>1</td>\n",
       "      <td>148</td>\n",
       "      <td>3.5</td>\n",
       "      <td>1</td>\n",
       "      <td>3.5</td>\n",
       "      <td>5.0</td>\n",
       "      <td>1/1/2022</td>\n",
       "      <td>1</td>\n",
       "    </tr>\n",
       "    <tr>\n",
       "      <th>2</th>\n",
       "      <td>Processed</td>\n",
       "      <td>VJ300320611</td>\n",
       "      <td>Brunswick Sq Mall</td>\n",
       "      <td>BSQ Mall x1366 - ATT</td>\n",
       "      <td>Takis - Hot Chilli Pepper &amp; Lime</td>\n",
       "      <td>Food</td>\n",
       "      <td>14516018629</td>\n",
       "      <td>1/1/2022</td>\n",
       "      <td>Credit</td>\n",
       "      <td>123</td>\n",
       "      <td>1.5</td>\n",
       "      <td>1</td>\n",
       "      <td>123</td>\n",
       "      <td>1.5</td>\n",
       "      <td>1</td>\n",
       "      <td>1.5</td>\n",
       "      <td>5.0</td>\n",
       "      <td>1/1/2022</td>\n",
       "      <td>1</td>\n",
       "    </tr>\n",
       "    <tr>\n",
       "      <th>3</th>\n",
       "      <td>Processed</td>\n",
       "      <td>VJ300320611</td>\n",
       "      <td>Brunswick Sq Mall</td>\n",
       "      <td>BSQ Mall x1366 - ATT</td>\n",
       "      <td>Takis - Hot Chilli Pepper &amp; Lime</td>\n",
       "      <td>Food</td>\n",
       "      <td>14516020373</td>\n",
       "      <td>1/1/2022</td>\n",
       "      <td>Credit</td>\n",
       "      <td>123</td>\n",
       "      <td>1.5</td>\n",
       "      <td>1</td>\n",
       "      <td>123</td>\n",
       "      <td>1.5</td>\n",
       "      <td>1</td>\n",
       "      <td>1.5</td>\n",
       "      <td>1.5</td>\n",
       "      <td>1/1/2022</td>\n",
       "      <td>1</td>\n",
       "    </tr>\n",
       "    <tr>\n",
       "      <th>4</th>\n",
       "      <td>Processed</td>\n",
       "      <td>VJ300320611</td>\n",
       "      <td>Brunswick Sq Mall</td>\n",
       "      <td>BSQ Mall x1366 - ATT</td>\n",
       "      <td>Red Bull - Energy Drink - Sugar Free</td>\n",
       "      <td>Carbonated</td>\n",
       "      <td>14516021756</td>\n",
       "      <td>1/1/2022</td>\n",
       "      <td>Credit</td>\n",
       "      <td>148</td>\n",
       "      <td>3.5</td>\n",
       "      <td>1</td>\n",
       "      <td>148</td>\n",
       "      <td>3.5</td>\n",
       "      <td>1</td>\n",
       "      <td>3.5</td>\n",
       "      <td>3.5</td>\n",
       "      <td>1/1/2022</td>\n",
       "      <td>1</td>\n",
       "    </tr>\n",
       "  </tbody>\n",
       "</table>\n",
       "</div>"
      ],
      "text/plain": [
       "      Status    Device ID           Location               Machine  \\\n",
       "0  Processed  VJ300320611  Brunswick Sq Mall  BSQ Mall x1366 - ATT   \n",
       "1  Processed  VJ300320611  Brunswick Sq Mall  BSQ Mall x1366 - ATT   \n",
       "2  Processed  VJ300320611  Brunswick Sq Mall  BSQ Mall x1366 - ATT   \n",
       "3  Processed  VJ300320611  Brunswick Sq Mall  BSQ Mall x1366 - ATT   \n",
       "4  Processed  VJ300320611  Brunswick Sq Mall  BSQ Mall x1366 - ATT   \n",
       "\n",
       "                                Product    Category  Transaction TransDate  \\\n",
       "0  Red Bull - Energy Drink - Sugar Free  Carbonated  14515778905  1/1/2022   \n",
       "1  Red Bull - Energy Drink - Sugar Free  Carbonated  14516018629  1/1/2022   \n",
       "2      Takis - Hot Chilli Pepper & Lime        Food  14516018629  1/1/2022   \n",
       "3      Takis - Hot Chilli Pepper & Lime        Food  14516020373  1/1/2022   \n",
       "4  Red Bull - Energy Drink - Sugar Free  Carbonated  14516021756  1/1/2022   \n",
       "\n",
       "     Type  RCoil  RPrice  RQty  MCoil  MPrice  MQty  LineTotal  TransTotal  \\\n",
       "0  Credit    148     3.5     1    148     3.5     1        3.5         3.5   \n",
       "1  Credit    148     3.5     1    148     3.5     1        3.5         5.0   \n",
       "2  Credit    123     1.5     1    123     1.5     1        1.5         5.0   \n",
       "3  Credit    123     1.5     1    123     1.5     1        1.5         1.5   \n",
       "4  Credit    148     3.5     1    148     3.5     1        3.5         3.5   \n",
       "\n",
       "  Prcd Date  TransMonth  \n",
       "0  1/1/2022           1  \n",
       "1  1/1/2022           1  \n",
       "2  1/1/2022           1  \n",
       "3  1/1/2022           1  \n",
       "4  1/1/2022           1  "
      ]
     },
     "execution_count": 8,
     "metadata": {},
     "output_type": "execute_result"
    }
   ],
   "source": [
    "# Melihat data penjualan yang diurutkan per bulan pada awal data\n",
    "df['TransMonth'] = pd.DatetimeIndex(df['TransDate']).month\n",
    "df.head()"
   ]
  },
  {
   "cell_type": "code",
   "execution_count": 9,
   "id": "f8d96797",
   "metadata": {
    "execution": {
     "iopub.execute_input": "2023-12-21T06:07:33.009615Z",
     "iopub.status.busy": "2023-12-21T06:07:33.008794Z",
     "iopub.status.idle": "2023-12-21T06:07:33.036529Z",
     "shell.execute_reply": "2023-12-21T06:07:33.035392Z"
    },
    "papermill": {
     "duration": 0.04371,
     "end_time": "2023-12-21T06:07:33.039080",
     "exception": false,
     "start_time": "2023-12-21T06:07:32.995370",
     "status": "completed"
    },
    "tags": []
   },
   "outputs": [
    {
     "data": {
      "text/html": [
       "<div>\n",
       "<style scoped>\n",
       "    .dataframe tbody tr th:only-of-type {\n",
       "        vertical-align: middle;\n",
       "    }\n",
       "\n",
       "    .dataframe tbody tr th {\n",
       "        vertical-align: top;\n",
       "    }\n",
       "\n",
       "    .dataframe thead th {\n",
       "        text-align: right;\n",
       "    }\n",
       "</style>\n",
       "<table border=\"1\" class=\"dataframe\">\n",
       "  <thead>\n",
       "    <tr style=\"text-align: right;\">\n",
       "      <th></th>\n",
       "      <th>Status</th>\n",
       "      <th>Device ID</th>\n",
       "      <th>Location</th>\n",
       "      <th>Machine</th>\n",
       "      <th>Product</th>\n",
       "      <th>Category</th>\n",
       "      <th>Transaction</th>\n",
       "      <th>TransDate</th>\n",
       "      <th>Type</th>\n",
       "      <th>RCoil</th>\n",
       "      <th>RPrice</th>\n",
       "      <th>RQty</th>\n",
       "      <th>MCoil</th>\n",
       "      <th>MPrice</th>\n",
       "      <th>MQty</th>\n",
       "      <th>LineTotal</th>\n",
       "      <th>TransTotal</th>\n",
       "      <th>Prcd Date</th>\n",
       "      <th>TransMonth</th>\n",
       "    </tr>\n",
       "  </thead>\n",
       "  <tbody>\n",
       "    <tr>\n",
       "      <th>9612</th>\n",
       "      <td>Processed</td>\n",
       "      <td>VJ300320609</td>\n",
       "      <td>GuttenPlans</td>\n",
       "      <td>GuttenPlans x1367</td>\n",
       "      <td>Doritos Nacho Cheese</td>\n",
       "      <td>Food</td>\n",
       "      <td>16175373362</td>\n",
       "      <td>12/30/2022</td>\n",
       "      <td>Cash</td>\n",
       "      <td>112</td>\n",
       "      <td>1.5</td>\n",
       "      <td>1</td>\n",
       "      <td>112</td>\n",
       "      <td>1.5</td>\n",
       "      <td>1</td>\n",
       "      <td>1.5</td>\n",
       "      <td>1.5</td>\n",
       "      <td>12/30/2022</td>\n",
       "      <td>12</td>\n",
       "    </tr>\n",
       "    <tr>\n",
       "      <th>9613</th>\n",
       "      <td>Processed</td>\n",
       "      <td>VJ300320611</td>\n",
       "      <td>Brunswick Sq Mall</td>\n",
       "      <td>BSQ Mall x1366 - ATT</td>\n",
       "      <td>Poland Springs Water</td>\n",
       "      <td>Water</td>\n",
       "      <td>16176802941</td>\n",
       "      <td>12/31/2022</td>\n",
       "      <td>Cash</td>\n",
       "      <td>143</td>\n",
       "      <td>1.5</td>\n",
       "      <td>1</td>\n",
       "      <td>143</td>\n",
       "      <td>1.5</td>\n",
       "      <td>1</td>\n",
       "      <td>1.5</td>\n",
       "      <td>1.5</td>\n",
       "      <td>12/31/2022</td>\n",
       "      <td>12</td>\n",
       "    </tr>\n",
       "    <tr>\n",
       "      <th>9614</th>\n",
       "      <td>Processed</td>\n",
       "      <td>VJ300205292</td>\n",
       "      <td>Brunswick Sq Mall</td>\n",
       "      <td>BSQ Mall x1364 - Zales</td>\n",
       "      <td>Robert Irvine's - Fit Crunch -  Chocolate Pea</td>\n",
       "      <td>Food</td>\n",
       "      <td>16176909481</td>\n",
       "      <td>12/31/2022</td>\n",
       "      <td>Cash</td>\n",
       "      <td>137</td>\n",
       "      <td>2.0</td>\n",
       "      <td>1</td>\n",
       "      <td>137</td>\n",
       "      <td>2.0</td>\n",
       "      <td>1</td>\n",
       "      <td>2.0</td>\n",
       "      <td>2.0</td>\n",
       "      <td>12/31/2022</td>\n",
       "      <td>12</td>\n",
       "    </tr>\n",
       "    <tr>\n",
       "      <th>9615</th>\n",
       "      <td>Processed</td>\n",
       "      <td>VJ300320611</td>\n",
       "      <td>Brunswick Sq Mall</td>\n",
       "      <td>BSQ Mall x1366 - ATT</td>\n",
       "      <td>Poland Springs Water</td>\n",
       "      <td>Water</td>\n",
       "      <td>16176914301</td>\n",
       "      <td>12/31/2022</td>\n",
       "      <td>Cash</td>\n",
       "      <td>143</td>\n",
       "      <td>1.5</td>\n",
       "      <td>1</td>\n",
       "      <td>143</td>\n",
       "      <td>1.5</td>\n",
       "      <td>1</td>\n",
       "      <td>1.5</td>\n",
       "      <td>1.5</td>\n",
       "      <td>12/31/2022</td>\n",
       "      <td>12</td>\n",
       "    </tr>\n",
       "    <tr>\n",
       "      <th>9616</th>\n",
       "      <td>Processed</td>\n",
       "      <td>VJ300205292</td>\n",
       "      <td>Brunswick Sq Mall</td>\n",
       "      <td>BSQ Mall x1364 - Zales</td>\n",
       "      <td>Coca Cola - Zero Sugar</td>\n",
       "      <td>Carbonated</td>\n",
       "      <td>16177325723</td>\n",
       "      <td>12/31/2022</td>\n",
       "      <td>Cash</td>\n",
       "      <td>140</td>\n",
       "      <td>1.5</td>\n",
       "      <td>1</td>\n",
       "      <td>140</td>\n",
       "      <td>1.5</td>\n",
       "      <td>1</td>\n",
       "      <td>1.5</td>\n",
       "      <td>1.5</td>\n",
       "      <td>12/31/2022</td>\n",
       "      <td>12</td>\n",
       "    </tr>\n",
       "  </tbody>\n",
       "</table>\n",
       "</div>"
      ],
      "text/plain": [
       "         Status    Device ID           Location                 Machine  \\\n",
       "9612  Processed  VJ300320609        GuttenPlans       GuttenPlans x1367   \n",
       "9613  Processed  VJ300320611  Brunswick Sq Mall    BSQ Mall x1366 - ATT   \n",
       "9614  Processed  VJ300205292  Brunswick Sq Mall  BSQ Mall x1364 - Zales   \n",
       "9615  Processed  VJ300320611  Brunswick Sq Mall    BSQ Mall x1366 - ATT   \n",
       "9616  Processed  VJ300205292  Brunswick Sq Mall  BSQ Mall x1364 - Zales   \n",
       "\n",
       "                                            Product    Category  Transaction  \\\n",
       "9612                           Doritos Nacho Cheese        Food  16175373362   \n",
       "9613                           Poland Springs Water       Water  16176802941   \n",
       "9614  Robert Irvine's - Fit Crunch -  Chocolate Pea        Food  16176909481   \n",
       "9615                           Poland Springs Water       Water  16176914301   \n",
       "9616                         Coca Cola - Zero Sugar  Carbonated  16177325723   \n",
       "\n",
       "       TransDate  Type  RCoil  RPrice  RQty  MCoil  MPrice  MQty  LineTotal  \\\n",
       "9612  12/30/2022  Cash    112     1.5     1    112     1.5     1        1.5   \n",
       "9613  12/31/2022  Cash    143     1.5     1    143     1.5     1        1.5   \n",
       "9614  12/31/2022  Cash    137     2.0     1    137     2.0     1        2.0   \n",
       "9615  12/31/2022  Cash    143     1.5     1    143     1.5     1        1.5   \n",
       "9616  12/31/2022  Cash    140     1.5     1    140     1.5     1        1.5   \n",
       "\n",
       "      TransTotal   Prcd Date  TransMonth  \n",
       "9612         1.5  12/30/2022          12  \n",
       "9613         1.5  12/31/2022          12  \n",
       "9614         2.0  12/31/2022          12  \n",
       "9615         1.5  12/31/2022          12  \n",
       "9616         1.5  12/31/2022          12  "
      ]
     },
     "execution_count": 9,
     "metadata": {},
     "output_type": "execute_result"
    }
   ],
   "source": [
    "# Melihat data penjualan yang diurutkan per bulan pada ekor data\n",
    "df['TransMonth'] = pd.DatetimeIndex(df['TransDate']).month\n",
    "df.tail()"
   ]
  },
  {
   "cell_type": "code",
   "execution_count": 10,
   "id": "1bb67a8f",
   "metadata": {
    "execution": {
     "iopub.execute_input": "2023-12-21T06:07:33.066159Z",
     "iopub.status.busy": "2023-12-21T06:07:33.065658Z",
     "iopub.status.idle": "2023-12-21T06:07:33.075096Z",
     "shell.execute_reply": "2023-12-21T06:07:33.074142Z"
    },
    "papermill": {
     "duration": 0.025844,
     "end_time": "2023-12-21T06:07:33.077246",
     "exception": false,
     "start_time": "2023-12-21T06:07:33.051402",
     "status": "completed"
    },
    "tags": []
   },
   "outputs": [],
   "source": [
    "# drop kolom yang tidak digunakan \n",
    "df.drop(['Status','RCoil', 'MCoil', 'MPrice', 'MQty', 'LineTotal', 'Prcd Date'], axis=1, inplace=True)"
   ]
  },
  {
   "cell_type": "markdown",
   "id": "2c54a625",
   "metadata": {
    "papermill": {
     "duration": 0.012101,
     "end_time": "2023-12-21T06:07:33.102228",
     "exception": false,
     "start_time": "2023-12-21T06:07:33.090127",
     "status": "completed"
    },
    "tags": []
   },
   "source": [
    "Setelah analisis awal data diatas kita temukan beberapa data yang nilainya tidak akan kami pakai untuk membuat analisis dan juga untuk ditampilkan dalam bentuk grafik maka dari itu value dari data diatas akan kami drop agar tidak menggangu"
   ]
  },
  {
   "cell_type": "markdown",
   "id": "584abb65",
   "metadata": {
    "papermill": {
     "duration": 0.012018,
     "end_time": "2023-12-21T06:07:33.126559",
     "exception": false,
     "start_time": "2023-12-21T06:07:33.114541",
     "status": "completed"
    },
    "tags": []
   },
   "source": [
    "**<span style=\"font-size:1.5em;\">HEAT MAP</span>**"
   ]
  },
  {
   "cell_type": "code",
   "execution_count": 11,
   "id": "c4e4f967",
   "metadata": {
    "execution": {
     "iopub.execute_input": "2023-12-21T06:07:33.152764Z",
     "iopub.status.busy": "2023-12-21T06:07:33.152334Z",
     "iopub.status.idle": "2023-12-21T06:07:33.575600Z",
     "shell.execute_reply": "2023-12-21T06:07:33.574376Z"
    },
    "papermill": {
     "duration": 0.43971,
     "end_time": "2023-12-21T06:07:33.578400",
     "exception": false,
     "start_time": "2023-12-21T06:07:33.138690",
     "status": "completed"
    },
    "tags": []
   },
   "outputs": [
    {
     "data": {
      "image/png": "[encoded data removed]",
      "text/plain": [
       "<Figure size 1600x800 with 2 Axes>"
      ]
     },
     "metadata": {},
     "output_type": "display_data"
    }
   ],
   "source": [
    "#menampilkan distribusi data dalam bentuk heatmap\n",
    "plt.figure(figsize=(16, 8))\n",
    "sns.heatmap(df.select_dtypes(include=['int', 'float']).corr(), annot=True)\n",
    "plt.show()"
   ]
  },
  {
   "cell_type": "markdown",
   "id": "32a80f1f",
   "metadata": {
    "papermill": {
     "duration": 0.012578,
     "end_time": "2023-12-21T06:07:33.604499",
     "exception": false,
     "start_time": "2023-12-21T06:07:33.591921",
     "status": "completed"
    },
    "tags": []
   },
   "source": [
    "Angka pada heatmap menunjukan apabila mendekati 1 atau positif maka perbandingan antar value data akan menghasilkan data yang semakin berkorelasi atau nilainya berbanding lurus, namun apabila semakin negatif angkanya maka perbandingan antar value data akan menghasilkan data yang kurang berkorelasi atau nilainya berbanding terbalik.\n",
    "\n",
    "Kemudian dari beberaoa analisis dari heatmap diatas ditemukan bahwa TransTotal sangat berkorelasi dengan RPrice maksudnya adalah Total transaksi berbanding lurus dengan harga produk,contohnya adalah semakin banyak terjadinya transaksi maka semakin banyak produk yang terjual. Lalu untuk RQty dengan RPrice kurang berkorelasi maksudnya adalah Harga kurang berkorelasi dengan kuantitas produk, contohnya adalah semakin mahal harga produk maka produk yang terjual akan semakin sedikit."
   ]
  },
  {
   "cell_type": "markdown",
   "id": "b12628a7",
   "metadata": {
    "papermill": {
     "duration": 0.012473,
     "end_time": "2023-12-21T06:07:33.629773",
     "exception": false,
     "start_time": "2023-12-21T06:07:33.617300",
     "status": "completed"
    },
    "tags": []
   },
   "source": [
    "**<span style=\"font-size:1.5em;\">Analisis Penjualan Vending Machine</span>**"
   ]
  },
  {
   "cell_type": "code",
   "execution_count": 12,
   "id": "23d445ea",
   "metadata": {
    "execution": {
     "iopub.execute_input": "2023-12-21T06:07:33.658741Z",
     "iopub.status.busy": "2023-12-21T06:07:33.657519Z",
     "iopub.status.idle": "2023-12-21T06:07:33.852637Z",
     "shell.execute_reply": "2023-12-21T06:07:33.850913Z"
    },
    "papermill": {
     "duration": 0.214224,
     "end_time": "2023-12-21T06:07:33.856774",
     "exception": false,
     "start_time": "2023-12-21T06:07:33.642550",
     "status": "completed"
    },
    "tags": []
   },
   "outputs": [
    {
     "data": {
      "image/png": "[encoded data removed]",
      "text/plain": [
       "<Figure size 640x480 with 1 Axes>"
      ]
     },
     "metadata": {},
     "output_type": "display_data"
    }
   ],
   "source": [
    "#menampilkan produk yang terjual pada setiap vending machine memakai piechart\n",
    "grouped = df.groupby(['Device ID', 'Product']).size().reset_index(name='counts')\n",
    "grouped = grouped.groupby('Device ID')['counts'].sum().reset_index(name='total')\n",
    "grouped = grouped.sort_values('total', ascending=False)\n",
    "plt.pie(grouped['total'], labels=grouped['Device ID'], autopct='%1.1f%%', startangle=90)\n",
    "plt.title('Persentase Penjualan Pada Mesin')\n",
    "plt.axis('equal')  \n",
    "plt.show()\n"
   ]
  },
  {
   "cell_type": "markdown",
   "id": "f82dd873",
   "metadata": {
    "papermill": {
     "duration": 0.018411,
     "end_time": "2023-12-21T06:07:33.899514",
     "exception": false,
     "start_time": "2023-12-21T06:07:33.881103",
     "status": "completed"
    },
    "tags": []
   },
   "source": [
    "Berdasarkan grafik diatas persentase penjualan pada mesin seri VJ300320609 merupakan mesin yang paling sering menjual produk dari seluruh lokasi yang ada.\n",
    "\n",
    "Alasan mengapa mesin VJ300320609 menjadi mesin yang paling sering digunakan dalam transaksi karena, lokasinya yang berada di Pabrik Glutten Plans. Di lokasi pabrik, kemungkinan pekerja jarang membawa bekalnya sendiri dan lebih memilih untuk membeli produk makanan minuman melalui vending machine karena lebih efektif, kemudian alasan lainnya adalah karena Pabrik Glutten Plans yang beroperasi 24 jam tanpa henti. Hal ini memungkinkan pekerja membeli apapun di jam yang tidak terbatas, dibanding dilokasi lain yang buka belum tentu 24 jam seperti mall dan perpustakaan pada dataset diatas."
   ]
  },
  {
   "cell_type": "code",
   "execution_count": 13,
   "id": "2067512e",
   "metadata": {
    "execution": {
     "iopub.execute_input": "2023-12-21T06:07:33.930551Z",
     "iopub.status.busy": "2023-12-21T06:07:33.929167Z",
     "iopub.status.idle": "2023-12-21T06:07:34.222022Z",
     "shell.execute_reply": "2023-12-21T06:07:34.221059Z"
    },
    "papermill": {
     "duration": 0.310595,
     "end_time": "2023-12-21T06:07:34.224249",
     "exception": false,
     "start_time": "2023-12-21T06:07:33.913654",
     "status": "completed"
    },
    "tags": []
   },
   "outputs": [
    {
     "data": {
      "text/plain": [
       "<function matplotlib.pyplot.show(close=None, block=None)>"
      ]
     },
     "execution_count": 13,
     "metadata": {},
     "output_type": "execute_result"
    },
    {
     "data": {
      "image/png": "[encoded data removed]",
      "text/plain": [
       "<Figure size 640x480 with 1 Axes>"
      ]
     },
     "metadata": {},
     "output_type": "display_data"
    }
   ],
   "source": [
    "#menampilkan data penjualan produk pada seluruh vending machine dalam bar plot\n",
    "df['Category'].value_counts().head(10).plot(kind='bar')\n",
    "plt.title('Perbandingan Penjualan ke-4 Kategori Produk')\n",
    "plt.show"
   ]
  },
  {
   "cell_type": "markdown",
   "id": "d796ec1c",
   "metadata": {
    "papermill": {
     "duration": 0.014216,
     "end_time": "2023-12-21T06:07:34.253008",
     "exception": false,
     "start_time": "2023-12-21T06:07:34.238792",
     "status": "completed"
    },
    "tags": []
   },
   "source": [
    "Berdasarkan grafik diatas dari seluruh vending machine diseluruh lokasi menunjukan bahwa penjualan makanan merupakan yang paling laku terjual.\n",
    "\n",
    "Alasan mengapa produk makanan menjadi produk yang paling laku dibanding 3 produk lainnya adalah produk makanan cenderung lebih laku dibandingkan minuman pada vending machine. Pertama, produk makanan seringkali memberikan rasa kenyang dan kepuasan lebih lama dibandingkan minuman. Konsumen mungkin lebih memilih makanan sebagai opsi untuk mengatasi rasa lapar, terutama saat mereka tidak memiliki waktu untuk menyiapkan makanan sendiri. Kedua, makanan dapat memiliki variasi yang lebih besar dalam hal jenis dan rasa, menarik konsumen untuk mencoba berbagai pilihan. Sementara minuman umumnya memiliki opsi yang lebih terbatas dalam hal variasi. Selain itu, kebiasaan masyarakat tertentu, seperti camilan di antara waktu makan, dapat mempengaruhi preferensi konsumen terhadap produk makanan. Meskipun minuman tetap menjadi pilihan yang populer, faktor-faktor ini dapat memberikan keunggulan bagi produk makanan dalam vending machine."
   ]
  },
  {
   "cell_type": "code",
   "execution_count": 14,
   "id": "f8b060c9",
   "metadata": {
    "execution": {
     "iopub.execute_input": "2023-12-21T06:07:34.284796Z",
     "iopub.status.busy": "2023-12-21T06:07:34.283577Z",
     "iopub.status.idle": "2023-12-21T06:07:34.293995Z",
     "shell.execute_reply": "2023-12-21T06:07:34.293074Z"
    },
    "papermill": {
     "duration": 0.028732,
     "end_time": "2023-12-21T06:07:34.296327",
     "exception": false,
     "start_time": "2023-12-21T06:07:34.267595",
     "status": "completed"
    },
    "tags": []
   },
   "outputs": [
    {
     "data": {
      "text/plain": [
       "Category\n",
       "Food              5293\n",
       "Carbonated        2377\n",
       "Non Carbonated    1023\n",
       "Water              657\n",
       "Name: count, dtype: int64"
      ]
     },
     "execution_count": 14,
     "metadata": {},
     "output_type": "execute_result"
    }
   ],
   "source": [
    "#menampilkan jumlah penjualan produk dengan angka yang lebih jelas \n",
    "food = df['Category'].value_counts()\n",
    "food"
   ]
  },
  {
   "cell_type": "code",
   "execution_count": 15,
   "id": "6a74f70f",
   "metadata": {
    "execution": {
     "iopub.execute_input": "2023-12-21T06:07:34.328099Z",
     "iopub.status.busy": "2023-12-21T06:07:34.327318Z",
     "iopub.status.idle": "2023-12-21T06:07:34.680444Z",
     "shell.execute_reply": "2023-12-21T06:07:34.679258Z"
    },
    "papermill": {
     "duration": 0.372059,
     "end_time": "2023-12-21T06:07:34.683111",
     "exception": false,
     "start_time": "2023-12-21T06:07:34.311052",
     "status": "completed"
    },
    "tags": []
   },
   "outputs": [
    {
     "data": {
      "image/png": "[encoded data removed]",
      "text/plain": [
       "<Figure size 640x480 with 1 Axes>"
      ]
     },
     "metadata": {},
     "output_type": "display_data"
    }
   ],
   "source": [
    "#menampilkan box plot penjualan kaegori produk disetiap lokasi\n",
    "ax = sns.countplot(y=\"Location\", data=df,hue='Category', palette=\"viridis\")  \n",
    "plt.title('Perbandingan Penjualan ke-4 Kategori Produk di 4 Lokasi Berbeda')\n",
    "plt.show()\n"
   ]
  },
  {
   "cell_type": "markdown",
   "id": "e8f05aac",
   "metadata": {
    "papermill": {
     "duration": 0.016042,
     "end_time": "2023-12-21T06:07:34.717562",
     "exception": false,
     "start_time": "2023-12-21T06:07:34.701520",
     "status": "completed"
    },
    "tags": []
   },
   "source": [
    "Berdasarkan grafik diatas total penjualan dari keempat kategori produk terbanyak berada dilokasi Glutten Plans kedua diikuti EB Public Library\n",
    "\n",
    "Penjualan produk vending machine cenderung lebih laku di lingkungan pabrik dibandingkan di mal atau perpustakaan karena karakteristik unik dari lingkungan pabrik itu sendiri. Pertama, pabrik seringkali memiliki jadwal kerja yang padat, dengan karyawan yang mungkin memiliki waktu istirahat terbatas untuk mencari makanan atau minuman. Keberadaan vending machine di pabrik dapat memberikan solusi cepat dan mudah untuk memenuhi kebutuhan konsumen dalam waktu singkat. Kedua, pabrik biasanya terletak di area yang mungkin jauh dari pusat perbelanjaan atau tempat hiburan, membuat vending machine di pabrik menjadi opsi satu-satunya yang praktis bagi para pekerja. Selain itu, produk di vending machine sering kali dihargai dengan harga yang lebih terjangkau, menciptakan daya tarik ekonomis bagi karyawan pabrik. Terakhir, pilihan produk vending machine di pabrik mungkin lebih disesuaikan dengan preferensi dan kebutuhan karyawan, yang dapat meningkatkan minat dan keinginan untuk membeli. Oleh karena itu, kondisi unik di lingkungan pabrik menciptakan permintaan yang lebih besar untuk vending machine dibandingkan dengan mal atau perpustakaan.\n",
    "\n",
    "Kemudian untuk membandingkan penjualan Makanan dan Minuman pada tempat.\n",
    "Penjualan air pada vending machine cenderung lebih laku di mal dan perpustakaan dibandingkan di pabrik karena dua alasan utama. Pertama, pengunjung mall dan perpustakaan seringkali mencari opsi minuman yang cepat dan praktis untuk memuaskan dahaga mereka saat berada di tempat umum. Air adalah pilihan yang ringan, menyegarkan, dan dianggap sebagai opsi yang lebih sehat, yang dapat meningkatkan minat pembeli. Kedua, keberadaan vending machine di mal dan perpustakaan lebih terkait dengan pengalaman konsumen dan kenyamanan. Pembeli di tempat-tempat tersebut sering mencari sesuatu yang dapat dikonsumsi secara langsung tanpa memerlukan persiapan atau pelayanan yang rumit.\n",
    "\n",
    "Sebaliknya, penjualan makanan pada vending machine cenderung lebih laku di pabrik. Pabrik memiliki karakteristik unik dengan jadwal kerja yang padat dan terbatasnya waktu istirahat bagi karyawan. Makanan yang tersedia di vending machine dapat memberikan solusi yang cepat dan praktis untuk memenuhi kebutuhan karyawan pabrik dalam waktu singkat. Selain itu, produk makanan di vending machine di pabrik mungkin disesuaikan dengan preferensi dan kebutuhan karyawan, menciptakan daya tarik khusus untuk konsumen di lingkungan pabrik. Dengan kata lain, perbedaan dalam preferensi konsumen dan konteks lingkungan tempat vending machine berada memainkan peran penting dalam menentukan jenis produk yang lebih laku di masing-masing lokasi."
   ]
  },
  {
   "cell_type": "code",
   "execution_count": 16,
   "id": "d8dc93b5",
   "metadata": {
    "execution": {
     "iopub.execute_input": "2023-12-21T06:07:34.763195Z",
     "iopub.status.busy": "2023-12-21T06:07:34.762367Z",
     "iopub.status.idle": "2023-12-21T06:07:34.777025Z",
     "shell.execute_reply": "2023-12-21T06:07:34.775788Z"
    },
    "papermill": {
     "duration": 0.036732,
     "end_time": "2023-12-21T06:07:34.779596",
     "exception": false,
     "start_time": "2023-12-21T06:07:34.742864",
     "status": "completed"
    },
    "tags": []
   },
   "outputs": [
    {
     "data": {
      "text/plain": [
       "Location\n",
       "GuttenPlans          3664\n",
       "EB Public Library    3180\n",
       "Brunswick Sq Mall    1739\n",
       "Earle Asphalt        1034\n",
       "Name: count, dtype: int64"
      ]
     },
     "execution_count": 16,
     "metadata": {},
     "output_type": "execute_result"
    }
   ],
   "source": [
    "#menampilkan jumlah penjualan disetiap lokasi dengan lebih jelas\n",
    "food = df['Location'].value_counts()\n",
    "food"
   ]
  },
  {
   "cell_type": "markdown",
   "id": "8d32c1c1",
   "metadata": {
    "papermill": {
     "duration": 0.01547,
     "end_time": "2023-12-21T06:07:34.810971",
     "exception": false,
     "start_time": "2023-12-21T06:07:34.795501",
     "status": "completed"
    },
    "tags": []
   },
   "source": [
    "**<span style=\"font-size:1.5em;\">Distribusi jumlah transaksi berdasarkan kategori produk</span>**"
   ]
  },
  {
   "cell_type": "code",
   "execution_count": 17,
   "id": "4b9382b3",
   "metadata": {
    "execution": {
     "iopub.execute_input": "2023-12-21T06:07:34.847328Z",
     "iopub.status.busy": "2023-12-21T06:07:34.845772Z",
     "iopub.status.idle": "2023-12-21T06:07:35.244661Z",
     "shell.execute_reply": "2023-12-21T06:07:35.243376Z"
    },
    "papermill": {
     "duration": 0.420519,
     "end_time": "2023-12-21T06:07:35.247333",
     "exception": false,
     "start_time": "2023-12-21T06:07:34.826814",
     "status": "completed"
    },
    "tags": []
   },
   "outputs": [
    {
     "data": {
      "image/png": "[encoded data removed]",
      "text/plain": [
       "<Figure size 1000x600 with 1 Axes>"
      ]
     },
     "metadata": {},
     "output_type": "display_data"
    }
   ],
   "source": [
    "plt.figure(figsize=(10, 6))\n",
    "sns.countplot(data=df, x='Category', order=df['Category'].value_counts().index, hue='Type', palette='viridis')\n",
    "plt.xlabel('Kategori Produk')\n",
    "plt.ylabel('Jumlah Transaksi')\n",
    "plt.title('Distribusi Jumlah Transaksi Berdasarkan Kategori Produk')\n",
    "plt.tight_layout()\n",
    "plt.show()"
   ]
  },
  {
   "cell_type": "markdown",
   "id": "2087ab17",
   "metadata": {
    "papermill": {
     "duration": 0.015874,
     "end_time": "2023-12-21T06:07:35.279719",
     "exception": false,
     "start_time": "2023-12-21T06:07:35.263845",
     "status": "completed"
    },
    "tags": []
   },
   "source": [
    "Berdasarkan grafik diatas, disimpulkan bahwa kategori makanan dengan pembelian cash paling sering dilakukan.\n",
    "\n",
    "Seperti yang disebutkan bahwa rata-rata pembeli lebih sering membeli makanan kemudian memakai cash karena dirasa pembayaran cash lebih mudah dan lenih sering diapakai, kemudian juga kebanyakan orang mungkin saja tidak memiliki banyak waktu untuk memakai sistem credit yang dirasa lebih menyulitkan untuk melakukan transaksinya dalam membeli produk"
   ]
  },
  {
   "cell_type": "markdown",
   "id": "952c4255",
   "metadata": {
    "papermill": {
     "duration": 0.015543,
     "end_time": "2023-12-21T06:07:35.311321",
     "exception": false,
     "start_time": "2023-12-21T06:07:35.295778",
     "status": "completed"
    },
    "tags": []
   },
   "source": [
    "**<span style=\"font-size:1.5em;\">Perbandingan jumlah transaksi di setiap lokasi</span>**"
   ]
  },
  {
   "cell_type": "code",
   "execution_count": 18,
   "id": "1d4e7f87",
   "metadata": {
    "execution": {
     "iopub.execute_input": "2023-12-21T06:07:35.345758Z",
     "iopub.status.busy": "2023-12-21T06:07:35.344825Z",
     "iopub.status.idle": "2023-12-21T06:07:35.731627Z",
     "shell.execute_reply": "2023-12-21T06:07:35.730309Z"
    },
    "papermill": {
     "duration": 0.407751,
     "end_time": "2023-12-21T06:07:35.734746",
     "exception": false,
     "start_time": "2023-12-21T06:07:35.326995",
     "status": "completed"
    },
    "tags": []
   },
   "outputs": [
    {
     "data": {
      "image/png": "[encoded data removed]",
      "text/plain": [
       "<Figure size 1000x600 with 1 Axes>"
      ]
     },
     "metadata": {},
     "output_type": "display_data"
    }
   ],
   "source": [
    "plt.figure(figsize=(10, 6))\n",
    "sns.countplot(data=df, x='Location', order=df['Location'].value_counts().index, hue='Type', palette='rainbow')\n",
    "plt.xlabel('Lokasi')\n",
    "plt.ylabel('Jumlah Transaksi')\n",
    "plt.title('Perbandingan Jumlah Transaksi di Setiap Lokasi')\n",
    "plt.tight_layout()\n",
    "plt.show()"
   ]
  },
  {
   "cell_type": "markdown",
   "id": "cd1a02ab",
   "metadata": {
    "papermill": {
     "duration": 0.017236,
     "end_time": "2023-12-21T06:07:35.769192",
     "exception": false,
     "start_time": "2023-12-21T06:07:35.751956",
     "status": "completed"
    },
    "tags": []
   },
   "source": [
    "Berdasarkan grafik Perbandingan Jumlah Transaksi di Setiap Lokasi diatas, disimpulkan bahwa penjualan di lokasi GluttenPlans dengan pembayaran cash adalah yang tertinggi.\n",
    "\n",
    "Alasan mengapa pembelian cash lebih sering dipakai dilingkungan pabrik adalah karen instensitas kerja pekerja yang tinggi sehingga cash merupakan pembayaran yang lebih simple kemudian pekerja belum tentu diperbolehkan memegang hp terus menerus, untuk itu melakukan transakasi secara credit menjadi lebih sulit diterapkan dilingkungan pabrik. Berbeda dengan dilingkungan Mall dan Perpustakaan yang memiliki intensitas yang lebih santai sehingga perbedaan pembayaran secara cash dan credit tidak terlalu jauh, karena pembeli tidak dituntut terburu-buru dan lebih santai keadaannya. Serta kemungkinan di lingkungan seperti Mall dan perpustakaan masih banyak generasi muda yang lebih andil dalam pemakaiaan teknologi cashless dibanding pabrik yang kemungkinan diisi lebih dominan orang dewasa."
   ]
  },
  {
   "cell_type": "markdown",
   "id": "8f1854d3",
   "metadata": {
    "papermill": {
     "duration": 0.016472,
     "end_time": "2023-12-21T06:07:35.803363",
     "exception": false,
     "start_time": "2023-12-21T06:07:35.786891",
     "status": "completed"
    },
    "tags": []
   },
   "source": [
    "**<span style=\"font-size:1.5em;\">Rata-rata total transaksi di setiap jenis mesin</span>**"
   ]
  },
  {
   "cell_type": "code",
   "execution_count": 19,
   "id": "90e90895",
   "metadata": {
    "execution": {
     "iopub.execute_input": "2023-12-21T06:07:35.838475Z",
     "iopub.status.busy": "2023-12-21T06:07:35.838030Z",
     "iopub.status.idle": "2023-12-21T06:07:36.299930Z",
     "shell.execute_reply": "2023-12-21T06:07:36.298774Z"
    },
    "papermill": {
     "duration": 0.48302,
     "end_time": "2023-12-21T06:07:36.302677",
     "exception": false,
     "start_time": "2023-12-21T06:07:35.819657",
     "status": "completed"
    },
    "tags": []
   },
   "outputs": [
    {
     "data": {
      "image/png": "[encoded data removed]",
      "text/plain": [
       "<Figure size 1200x600 with 1 Axes>"
      ]
     },
     "metadata": {},
     "output_type": "display_data"
    }
   ],
   "source": [
    "plt.figure(figsize=(12, 6))\n",
    "sns.boxplot(data=df.sort_values(by='TransTotal', ascending=False), x=\"Machine\", y=\"TransTotal\",hue ='Type', palette='inferno')\n",
    "plt.title('Rata-rata Total Transaksi di Setiap Jenis Mesin')\n",
    "plt.xlabel(\"Tipe Transaksi\")\n",
    "plt.ylabel(\"Rata-Rata Total Transaksi\")\n",
    "plt.show()"
   ]
  },
  {
   "cell_type": "markdown",
   "id": "511ef506",
   "metadata": {
    "papermill": {
     "duration": 0.017047,
     "end_time": "2023-12-21T06:07:36.337908",
     "exception": false,
     "start_time": "2023-12-21T06:07:36.320861",
     "status": "completed"
    },
    "tags": []
   },
   "source": [
    "Berdasarkan grafik Rata-rata Total Transaksi di Setiap Jenis Mesin diatas, disimpulkan bahwa Mesin di lokasi GluttenPlans x1367 memiliki rata-rata total transaksi tertinggi di setiap jenis transaksi, dibandingkan dengan 4 mesin lainnya, kemudian diikuti mesin di lokasi EB Public Library x1380"
   ]
  },
  {
   "cell_type": "markdown",
   "id": "947bb08b",
   "metadata": {
    "papermill": {
     "duration": 0.017168,
     "end_time": "2023-12-21T06:07:36.373030",
     "exception": false,
     "start_time": "2023-12-21T06:07:36.355862",
     "status": "completed"
    },
    "tags": []
   },
   "source": [
    "**<span style=\"font-size:1.5em;\">Perbedaan dalam rata-rata total transaksi antara tipe transaksi \"Cash\" dan \"Card\"</span>**"
   ]
  },
  {
   "cell_type": "code",
   "execution_count": 20,
   "id": "92108e75",
   "metadata": {
    "execution": {
     "iopub.execute_input": "2023-12-21T06:07:36.411362Z",
     "iopub.status.busy": "2023-12-21T06:07:36.410860Z",
     "iopub.status.idle": "2023-12-21T06:07:36.576368Z",
     "shell.execute_reply": "2023-12-21T06:07:36.575116Z"
    },
    "papermill": {
     "duration": 0.188084,
     "end_time": "2023-12-21T06:07:36.579768",
     "exception": false,
     "start_time": "2023-12-21T06:07:36.391684",
     "status": "completed"
    },
    "tags": []
   },
   "outputs": [
    {
     "data": {
      "image/png": "[encoded data removed]",
      "text/plain": [
       "<Figure size 800x800 with 1 Axes>"
      ]
     },
     "metadata": {},
     "output_type": "display_data"
    }
   ],
   "source": [
    "total_by_type = df.groupby('Type')['TransTotal'].sum()\n",
    "plt.figure(figsize=(8, 8))\n",
    "plt.pie(total_by_type, labels=total_by_type.index, autopct='%1.1f%%', startangle=90, colors=['#66b3ff', '#99ff99'])\n",
    "plt.title('Proporsi Total Transaksi antara Tipe Transaksi \"Cash\" dan \"Card\"')\n",
    "plt.show()\n"
   ]
  },
  {
   "cell_type": "markdown",
   "id": "963b6bce",
   "metadata": {
    "papermill": {
     "duration": 0.01797,
     "end_time": "2023-12-21T06:07:36.628068",
     "exception": false,
     "start_time": "2023-12-21T06:07:36.610098",
     "status": "completed"
    },
    "tags": []
   },
   "source": [
    "Berdasarkan grafik Proporsi Total Transaksi antara Tipe Transaksi \"Cash\" dan \"Card\" diatas, disimpulkan bahwa cash adalah tipe transaksi yang sering digunakan dibandingkan dengan tipe transaksi card.\n",
    "\n",
    "Penggunaan uang tunai (cash) masih lebih sering dipilih dibandingkan metode non-tunai (cashless) dalam transaksi vending machine, terutama karena beberapa alasan praktis dan preferensi konsumen. Pertama, penggunaan uang tunai memberikan tingkat fleksibilitas yang tinggi bagi konsumen. Uang tunai dapat dengan mudah digunakan tanpa tergantung pada ketersediaan layanan perbankan atau teknologi nirkabel. Beberapa konsumen mungkin merasa lebih nyaman menggunakan uang tunai karena mereka dapat mengontrol jumlah uang yang dikeluarkan secara langsung dan menghindari risiko keamanan terkait dengan teknologi pembayaran non-tunai.\n",
    "\n",
    "Kedua, beberapa konsumen mungkin tidak memiliki akses atau kenyamanan menggunakan alat pembayaran elektronik seperti kartu kredit atau aplikasi pembayaran digital. Faktor-faktor ini termasuk keterbatasan akses ke rekening bank, kurangnya pemahaman teknologi, atau preferensi untuk menjaga privasi keuangan mereka. Uang tunai masih dianggap sebagai bentuk pembayaran yang sederhana dan mudah dipahami oleh sebagian besar konsumen.\n",
    "\n",
    "Walaupun sistem cashless semakin berkembang dan semakin diterima secara luas, khususnya di lingkungan perkotaan, penggunaan uang tunai dalam transaksi vending machine tetap menjadi pilihan yang populer. Pemilik vending machine dan penyedia layanan pembayaran terus bekerja untuk meningkatkan keamanan dan kenyamanan transaksi non-tunai, namun pergeseran ke preferensi pembayaran cashless mungkin membutuhkan waktu lebih lama untuk sepenuhnya diterima di semua segmen masyarakat."
   ]
  },
  {
   "cell_type": "markdown",
   "id": "cefc60cd",
   "metadata": {
    "papermill": {
     "duration": 0.018255,
     "end_time": "2023-12-21T06:07:36.665145",
     "exception": false,
     "start_time": "2023-12-21T06:07:36.646890",
     "status": "completed"
    },
    "tags": []
   },
   "source": [
    "**<span style=\"font-size:1.5em;\">Tampilan Tren Penjualan Vending Machine </span>**"
   ]
  },
  {
   "cell_type": "code",
   "execution_count": 21,
   "id": "b87c322d",
   "metadata": {
    "execution": {
     "iopub.execute_input": "2023-12-21T06:07:36.706415Z",
     "iopub.status.busy": "2023-12-21T06:07:36.705460Z",
     "iopub.status.idle": "2023-12-21T06:07:36.730112Z",
     "shell.execute_reply": "2023-12-21T06:07:36.729083Z"
    },
    "papermill": {
     "duration": 0.046988,
     "end_time": "2023-12-21T06:07:36.732411",
     "exception": false,
     "start_time": "2023-12-21T06:07:36.685423",
     "status": "completed"
    },
    "tags": []
   },
   "outputs": [
    {
     "data": {
      "text/html": [
       "<div>\n",
       "<style scoped>\n",
       "    .dataframe tbody tr th:only-of-type {\n",
       "        vertical-align: middle;\n",
       "    }\n",
       "\n",
       "    .dataframe tbody tr th {\n",
       "        vertical-align: top;\n",
       "    }\n",
       "\n",
       "    .dataframe thead th {\n",
       "        text-align: right;\n",
       "    }\n",
       "</style>\n",
       "<table border=\"1\" class=\"dataframe\">\n",
       "  <thead>\n",
       "    <tr style=\"text-align: right;\">\n",
       "      <th>Category</th>\n",
       "      <th>Carbonated</th>\n",
       "      <th>Food</th>\n",
       "      <th>Non Carbonated</th>\n",
       "      <th>Water</th>\n",
       "    </tr>\n",
       "    <tr>\n",
       "      <th>TransMonth</th>\n",
       "      <th></th>\n",
       "      <th></th>\n",
       "      <th></th>\n",
       "      <th></th>\n",
       "    </tr>\n",
       "  </thead>\n",
       "  <tbody>\n",
       "    <tr>\n",
       "      <th>1</th>\n",
       "      <td>150</td>\n",
       "      <td>256</td>\n",
       "      <td>49</td>\n",
       "      <td>36</td>\n",
       "    </tr>\n",
       "    <tr>\n",
       "      <th>2</th>\n",
       "      <td>162</td>\n",
       "      <td>252</td>\n",
       "      <td>53</td>\n",
       "      <td>36</td>\n",
       "    </tr>\n",
       "    <tr>\n",
       "      <th>3</th>\n",
       "      <td>163</td>\n",
       "      <td>380</td>\n",
       "      <td>45</td>\n",
       "      <td>43</td>\n",
       "    </tr>\n",
       "    <tr>\n",
       "      <th>4</th>\n",
       "      <td>264</td>\n",
       "      <td>449</td>\n",
       "      <td>83</td>\n",
       "      <td>74</td>\n",
       "    </tr>\n",
       "    <tr>\n",
       "      <th>5</th>\n",
       "      <td>182</td>\n",
       "      <td>477</td>\n",
       "      <td>102</td>\n",
       "      <td>78</td>\n",
       "    </tr>\n",
       "    <tr>\n",
       "      <th>6</th>\n",
       "      <td>193</td>\n",
       "      <td>549</td>\n",
       "      <td>111</td>\n",
       "      <td>84</td>\n",
       "    </tr>\n",
       "    <tr>\n",
       "      <th>7</th>\n",
       "      <td>288</td>\n",
       "      <td>558</td>\n",
       "      <td>145</td>\n",
       "      <td>90</td>\n",
       "    </tr>\n",
       "    <tr>\n",
       "      <th>8</th>\n",
       "      <td>250</td>\n",
       "      <td>582</td>\n",
       "      <td>126</td>\n",
       "      <td>54</td>\n",
       "    </tr>\n",
       "    <tr>\n",
       "      <th>9</th>\n",
       "      <td>183</td>\n",
       "      <td>528</td>\n",
       "      <td>84</td>\n",
       "      <td>32</td>\n",
       "    </tr>\n",
       "    <tr>\n",
       "      <th>10</th>\n",
       "      <td>202</td>\n",
       "      <td>498</td>\n",
       "      <td>76</td>\n",
       "      <td>43</td>\n",
       "    </tr>\n",
       "    <tr>\n",
       "      <th>11</th>\n",
       "      <td>223</td>\n",
       "      <td>430</td>\n",
       "      <td>74</td>\n",
       "      <td>45</td>\n",
       "    </tr>\n",
       "    <tr>\n",
       "      <th>12</th>\n",
       "      <td>137</td>\n",
       "      <td>422</td>\n",
       "      <td>83</td>\n",
       "      <td>57</td>\n",
       "    </tr>\n",
       "  </tbody>\n",
       "</table>\n",
       "</div>"
      ],
      "text/plain": [
       "Category    Carbonated  Food  Non Carbonated  Water\n",
       "TransMonth                                         \n",
       "1                  150   256              49     36\n",
       "2                  162   252              53     36\n",
       "3                  163   380              45     43\n",
       "4                  264   449              83     74\n",
       "5                  182   477             102     78\n",
       "6                  193   549             111     84\n",
       "7                  288   558             145     90\n",
       "8                  250   582             126     54\n",
       "9                  183   528              84     32\n",
       "10                 202   498              76     43\n",
       "11                 223   430              74     45\n",
       "12                 137   422              83     57"
      ]
     },
     "execution_count": 21,
     "metadata": {},
     "output_type": "execute_result"
    }
   ],
   "source": [
    "#Jumlah penjualan produk di vending machine setiap bulannya dalam tabel\n",
    "trend_data = df.pivot_table(index='TransMonth', columns='Category', values='RQty', aggfunc='sum')\n",
    "trend_data"
   ]
  },
  {
   "cell_type": "code",
   "execution_count": 22,
   "id": "31074208",
   "metadata": {
    "execution": {
     "iopub.execute_input": "2023-12-21T06:07:36.771838Z",
     "iopub.status.busy": "2023-12-21T06:07:36.771059Z",
     "iopub.status.idle": "2023-12-21T06:07:37.337679Z",
     "shell.execute_reply": "2023-12-21T06:07:37.336517Z"
    },
    "papermill": {
     "duration": 0.589143,
     "end_time": "2023-12-21T06:07:37.340049",
     "exception": false,
     "start_time": "2023-12-21T06:07:36.750906",
     "status": "completed"
    },
    "tags": []
   },
   "outputs": [
    {
     "data": {
      "text/plain": [
       "<seaborn.axisgrid.FacetGrid at 0x782bf6e677c0>"
      ]
     },
     "execution_count": 22,
     "metadata": {},
     "output_type": "execute_result"
    },
    {
     "data": {
      "image/png": "[encoded data removed]",
      "text/plain": [
       "<Figure size 663.75x500 with 1 Axes>"
      ]
     },
     "metadata": {},
     "output_type": "display_data"
    }
   ],
   "source": [
    "sns.relplot(data=trend_data, kind=\"line\")"
   ]
  },
  {
   "cell_type": "markdown",
   "id": "b89f3d7c",
   "metadata": {
    "papermill": {
     "duration": 0.018787,
     "end_time": "2023-12-21T06:07:37.377876",
     "exception": false,
     "start_time": "2023-12-21T06:07:37.359089",
     "status": "completed"
    },
    "tags": []
   },
   "source": [
    "Berdasarkan grafik diatas disimpulkan bahwa penjualan makanan memiliki lonjakan paling drastis dibanding kategori makanan yang lainnya walaupun pada akhirnya mengalami penurunan penjualan\n",
    "\n"
   ]
  },
  {
   "cell_type": "code",
   "execution_count": 23,
   "id": "f30a5f39",
   "metadata": {
    "execution": {
     "iopub.execute_input": "2023-12-21T06:07:37.419715Z",
     "iopub.status.busy": "2023-12-21T06:07:37.418730Z",
     "iopub.status.idle": "2023-12-21T06:07:37.444675Z",
     "shell.execute_reply": "2023-12-21T06:07:37.443362Z"
    },
    "papermill": {
     "duration": 0.050118,
     "end_time": "2023-12-21T06:07:37.447258",
     "exception": false,
     "start_time": "2023-12-21T06:07:37.397140",
     "status": "completed"
    },
    "tags": []
   },
   "outputs": [
    {
     "data": {
      "text/html": [
       "<div>\n",
       "<style scoped>\n",
       "    .dataframe tbody tr th:only-of-type {\n",
       "        vertical-align: middle;\n",
       "    }\n",
       "\n",
       "    .dataframe tbody tr th {\n",
       "        vertical-align: top;\n",
       "    }\n",
       "\n",
       "    .dataframe thead th {\n",
       "        text-align: right;\n",
       "    }\n",
       "</style>\n",
       "<table border=\"1\" class=\"dataframe\">\n",
       "  <thead>\n",
       "    <tr style=\"text-align: right;\">\n",
       "      <th>Category</th>\n",
       "      <th>Carbonated</th>\n",
       "      <th>Food</th>\n",
       "      <th>Non Carbonated</th>\n",
       "      <th>Water</th>\n",
       "    </tr>\n",
       "    <tr>\n",
       "      <th>TransMonth</th>\n",
       "      <th></th>\n",
       "      <th></th>\n",
       "      <th></th>\n",
       "      <th></th>\n",
       "    </tr>\n",
       "  </thead>\n",
       "  <tbody>\n",
       "    <tr>\n",
       "      <th>1</th>\n",
       "      <td>296.50</td>\n",
       "      <td>402.00</td>\n",
       "      <td>114.50</td>\n",
       "      <td>55.50</td>\n",
       "    </tr>\n",
       "    <tr>\n",
       "      <th>2</th>\n",
       "      <td>310.00</td>\n",
       "      <td>394.00</td>\n",
       "      <td>125.50</td>\n",
       "      <td>59.50</td>\n",
       "    </tr>\n",
       "    <tr>\n",
       "      <th>3</th>\n",
       "      <td>303.75</td>\n",
       "      <td>597.00</td>\n",
       "      <td>116.50</td>\n",
       "      <td>83.00</td>\n",
       "    </tr>\n",
       "    <tr>\n",
       "      <th>4</th>\n",
       "      <td>515.25</td>\n",
       "      <td>746.50</td>\n",
       "      <td>221.25</td>\n",
       "      <td>127.00</td>\n",
       "    </tr>\n",
       "    <tr>\n",
       "      <th>5</th>\n",
       "      <td>356.00</td>\n",
       "      <td>818.00</td>\n",
       "      <td>263.00</td>\n",
       "      <td>142.00</td>\n",
       "    </tr>\n",
       "    <tr>\n",
       "      <th>6</th>\n",
       "      <td>431.00</td>\n",
       "      <td>941.25</td>\n",
       "      <td>282.25</td>\n",
       "      <td>145.50</td>\n",
       "    </tr>\n",
       "    <tr>\n",
       "      <th>7</th>\n",
       "      <td>599.50</td>\n",
       "      <td>964.50</td>\n",
       "      <td>366.25</td>\n",
       "      <td>170.00</td>\n",
       "    </tr>\n",
       "    <tr>\n",
       "      <th>8</th>\n",
       "      <td>565.50</td>\n",
       "      <td>1011.00</td>\n",
       "      <td>325.50</td>\n",
       "      <td>110.75</td>\n",
       "    </tr>\n",
       "    <tr>\n",
       "      <th>9</th>\n",
       "      <td>412.50</td>\n",
       "      <td>957.75</td>\n",
       "      <td>225.75</td>\n",
       "      <td>62.00</td>\n",
       "    </tr>\n",
       "    <tr>\n",
       "      <th>10</th>\n",
       "      <td>447.00</td>\n",
       "      <td>896.00</td>\n",
       "      <td>210.25</td>\n",
       "      <td>73.00</td>\n",
       "    </tr>\n",
       "    <tr>\n",
       "      <th>11</th>\n",
       "      <td>474.00</td>\n",
       "      <td>763.00</td>\n",
       "      <td>197.00</td>\n",
       "      <td>72.25</td>\n",
       "    </tr>\n",
       "    <tr>\n",
       "      <th>12</th>\n",
       "      <td>305.50</td>\n",
       "      <td>728.00</td>\n",
       "      <td>212.25</td>\n",
       "      <td>96.50</td>\n",
       "    </tr>\n",
       "  </tbody>\n",
       "</table>\n",
       "</div>"
      ],
      "text/plain": [
       "Category    Carbonated     Food  Non Carbonated   Water\n",
       "TransMonth                                             \n",
       "1               296.50   402.00          114.50   55.50\n",
       "2               310.00   394.00          125.50   59.50\n",
       "3               303.75   597.00          116.50   83.00\n",
       "4               515.25   746.50          221.25  127.00\n",
       "5               356.00   818.00          263.00  142.00\n",
       "6               431.00   941.25          282.25  145.50\n",
       "7               599.50   964.50          366.25  170.00\n",
       "8               565.50  1011.00          325.50  110.75\n",
       "9               412.50   957.75          225.75   62.00\n",
       "10              447.00   896.00          210.25   73.00\n",
       "11              474.00   763.00          197.00   72.25\n",
       "12              305.50   728.00          212.25   96.50"
      ]
     },
     "execution_count": 23,
     "metadata": {},
     "output_type": "execute_result"
    }
   ],
   "source": [
    "#Tampilan dataset total transaksi per bulannya yang didapat dari penjualan dengan tabel\n",
    "trend_data2 = df.pivot_table(index='TransMonth', columns='Category', values='RPrice', aggfunc='sum')\n",
    "trend_data2"
   ]
  },
  {
   "cell_type": "code",
   "execution_count": 24,
   "id": "e7f58f6e",
   "metadata": {
    "execution": {
     "iopub.execute_input": "2023-12-21T06:07:37.488817Z",
     "iopub.status.busy": "2023-12-21T06:07:37.488308Z",
     "iopub.status.idle": "2023-12-21T06:07:38.085633Z",
     "shell.execute_reply": "2023-12-21T06:07:38.084448Z"
    },
    "papermill": {
     "duration": 0.621661,
     "end_time": "2023-12-21T06:07:38.088808",
     "exception": false,
     "start_time": "2023-12-21T06:07:37.467147",
     "status": "completed"
    },
    "tags": []
   },
   "outputs": [
    {
     "data": {
      "text/plain": [
       "<Axes: xlabel='TransMonth'>"
      ]
     },
     "execution_count": 24,
     "metadata": {},
     "output_type": "execute_result"
    },
    {
     "data": {
      "image/png": "[encoded data removed]",
      "text/plain": [
       "<Figure size 1800x1800 with 1 Axes>"
      ]
     },
     "metadata": {},
     "output_type": "display_data"
    }
   ],
   "source": [
    "trend_data2.plot(kind='bar',stacked=True, figsize=(18,18), legend=True)"
   ]
  },
  {
   "cell_type": "markdown",
   "id": "ffb78d88",
   "metadata": {
    "papermill": {
     "duration": 0.0203,
     "end_time": "2023-12-21T06:07:38.129511",
     "exception": false,
     "start_time": "2023-12-21T06:07:38.109211",
     "status": "completed"
    },
    "tags": []
   },
   "source": [
    "Berdasarkan grafik tersebut penjualan produk tertinggi terjadi dibulan ke-7"
   ]
  },
  {
   "cell_type": "markdown",
   "id": "df8bb101",
   "metadata": {
    "papermill": {
     "duration": 0.019695,
     "end_time": "2023-12-21T06:07:38.169697",
     "exception": false,
     "start_time": "2023-12-21T06:07:38.150002",
     "status": "completed"
    },
    "tags": []
   },
   "source": [
    "Tingginya transaksi pada vending machine pada bulan ke-6 hingga ke-8 bisa dipengaruhi oleh beberapa faktor yang umumnya terjadi selama periode tersebut. Beberapa faktor ini melibatkan perubahan musiman, liburan, dan kebiasaan konsumen. Berikut adalah beberapa alasan yang mungkin menjelaskan fenomena ini:\n",
    "\n",
    "1. Musim Panas: Bulan ke-6 hingga ke-8 sering kali mencakup musim panas di banyak belahan bumi, tergantung pada lokasi geografis. Selama musim panas, tingkat aktivitas sosial dan perjalanan cenderung meningkat. Orang-orang sering berlibur, bepergian, atau menghabiskan lebih banyak waktu di luar rumah untuk kegiatan rekreasi. Hal ini dapat meningkatkan permintaan untuk layanan vending machine, terutama di tempat-tempat yang ramai dikunjungi selama musim panas, seperti taman, pantai, atau tempat wisata.\n",
    "\n",
    "2. Liburan Sekolah: Bulan ke-6 hingga ke-8 sering kali mencakup periode liburan sekolah, yang berarti banyak keluarga yang bepergian atau melakukan kegiatan liburan. Selama periode ini, vending machine mungkin menjadi pilihan yang nyaman untuk mendapatkan makanan ringan atau minuman saat keluarga sedang bepergian atau berlibur.\n",
    "\n",
    "3. Cuaca Hangat: Suhu yang lebih hangat selama musim panas dapat meningkatkan kebutuhan untuk hidrasi dan konsumsi makanan ringan. Orang mungkin lebih cenderung mencari minuman dingin atau camilan segar, yang dapat memicu peningkatan transaksi pada vending machine.\n",
    "\n",
    "4. Kegiatan Luar Ruangan: Banyak kegiatan luar ruangan, seperti piknik, konser, atau festival, sering terjadi selama musim panas. Vending machine yang ditempatkan di area-area tersebut mungkin mengalami peningkatan transaksi karena menjadi pilihan yang mudah dan cepat untuk mendapatkan makanan atau minuman selama acara-acara tersebut."
   ]
  },
  {
   "cell_type": "markdown",
   "id": "b799b874",
   "metadata": {
    "papermill": {
     "duration": 0.020919,
     "end_time": "2023-12-21T06:07:38.212143",
     "exception": false,
     "start_time": "2023-12-21T06:07:38.191224",
     "status": "completed"
    },
    "tags": []
   },
   "source": [
    "**<span style=\"font-size:1.5em;\">KESIMPULAN</span>**"
   ]
  },
  {
   "cell_type": "markdown",
   "id": "e12fb954",
   "metadata": {
    "papermill": {
     "duration": 0.019721,
     "end_time": "2023-12-21T06:07:38.252072",
     "exception": false,
     "start_time": "2023-12-21T06:07:38.232351",
     "status": "completed"
    },
    "tags": []
   },
   "source": [
    "1. Strategi Lokasi dan Mesin\n",
    "Mesin VJ300320609 menjadi yang paling sering digunakan dalam transaksi, terutama karena lokasinya yang berada di Pabrik Glutten Plans. Pabrik yang beroperasi 24 jam memungkinkan pekerja membeli produk makanan dan minuman melalui vending machine dengan efektif. Faktor ini membuat penempatan mesin di lingkungan pabrik menjadi pilihan yang optimal. Kombinasi antara lokasi strategis dan operasional 24 jam meningkatkan frekuensi transaksi pada mesin tersebut.\n",
    "\n",
    "2. Preferensi Produk dan Pengaruh Musiman\n",
    "Produk makanan menjadi yang paling laku dibandingkan dengan produk lainnya. Faktor-faktor seperti rasa kenyang yang lebih lama, variasi produk yang lebih besar, dan kebiasaan masyarakat memilih camilan di antara waktu makan mempengaruhi preferensi konsumen terhadap produk makanan. Selain itu, tingginya transaksi pada bulan ke-6 hingga ke-8 dapat dikaitkan dengan musim panas, liburan sekolah, cuaca hangat, dan kegiatan luar ruangan yang meningkatkan permintaan akan layanan vending machine.\n",
    "\n",
    "3. Preferensi Pembayaran Cash dan Implikasinya\n",
    "Penggunaan uang tunai lebih sering dipilih daripada metode non-tunai dalam transaksi vending machine. Ini disebabkan oleh fleksibilitas yang tinggi yang dimiliki uang tunai, keterbatasan akses atau kenyamanan menggunakan pembayaran non-tunai, dan preferensi konsumen terhadap keamanan dan kemudahan menggunakan uang tunai. Meskipun tren cashless semakin berkembang, penggunaan uang tunai tetap dominan dalam lingkungan vending machine, menuntut pemilik vending machine untuk mempertimbangkan strategi pembayaran yang lebih sesuai dengan preferensi konsumen.\n",
    "\n",
    "Kemudian disimpulkan bahwa terdapat sejumlah langkah strategis untuk mengoptimalkan operasi dan meningkatkan pengalaman pelanggan. Pertama, peningkatan produksi pada kategori produk makanan sebaiknya dipertimbangkan untuk ditingkatkan produksinya karena kategori ini menunjukkan volume transaksi tertinggi. Selanjutnya, untuk meningkatkan efektivitas penempatan produk, lokasi GluttenPlans perlu menjadi fokus utama karena telah mencatatkan jumlah transaksi terbesar dibandingkan lokasi lainnya. Selain itu, penggunaan jenis mesin EB Public Library x1380 sebaiknya diprioritaskan, mengingat mesin ini juga menunjukkan rata-rata total transaksi yang paling tinggi.\n",
    "\n",
    "Tidak hanya itu, pemberian kemudahan bertransaksi dengan kartu perlu untuk diperhatikan, mengingat mayoritas pelanggan lebih memilih pembayaran dengan tunai daripada kartu. Dengan mengimplementasikan langkah-langkah strategis ini, diharapkan perusahaan dapat meningkatkan efisiensi operasional secara keseluruhan sambil memberikan pengalaman yang lebih unggul bagi pelanggan."
   ]
  }
 ],
 "metadata": {
  "kaggle": {
   "accelerator": "none",
   "dataSources": [
    {
     "datasetId": 2441603,
     "sourceId": 5324453,
     "sourceType": "datasetVersion"
    }
   ],
   "dockerImageVersionId": 30615,
   "isGpuEnabled": false,
   "isInternetEnabled": false,
   "language": "python",
   "sourceType": "notebook"
  },
  "kernelspec": {
   "display_name": "Python 3",
   "language": "python",
   "name": "python3"
  },
  "language_info": {
   "codemirror_mode": {
    "name": "ipython",
    "version": 3
   },
   "file_extension": ".py",
   "mimetype": "text/x-python",
   "name": "python",
   "nbconvert_exporter": "python",
   "pygments_lexer": "ipython3",
   "version": "3.10.12"
  },
  "papermill": {
   "default_parameters": {},
   "duration": 12.999816,
   "end_time": "2023-12-21T06:07:39.197629",
   "environment_variables": {},
   "exception": null,
   "input_path": "__notebook__.ipynb",
   "output_path": "__notebook__.ipynb",
   "parameters": {},
   "start_time": "2023-12-21T06:07:26.197813",
   "version": "2.4.0"
  }
 },
 "nbformat": 4,
 "nbformat_minor": 5
}
